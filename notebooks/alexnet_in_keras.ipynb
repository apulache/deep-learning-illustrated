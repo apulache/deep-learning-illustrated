{
 "cells": [
  {
   "cell_type": "markdown",
   "metadata": {},
   "source": [
    "# AlexNet in Keras"
   ]
  },
  {
   "cell_type": "markdown",
   "metadata": {},
   "source": [
    "In this notebook, we leverage an [AlexNet](https://papers.nips.cc/paper/4824-imagenet-classification-with-deep-convolutional-neural-networks)-like deep, convolutional neural network to classify flowers into the 17 categories of the [Oxford Flowers](http://www.robots.ox.ac.uk/~vgg/data/flowers/17/) data set. Derived from [this earlier notebook](https://github.com/the-deep-learners/TensorFlow-LiveLessons/blob/master/notebooks/old/L3-3b__TFLearn_AlexNet.ipynb)."
   ]
  },
  {
   "cell_type": "markdown",
   "metadata": {},
   "source": [
    "[![Open In Colab](https://colab.research.google.com/assets/colab-badge.svg)](https://colab.research.google.com/github/the-deep-learners/deep-learning-illustrated/blob/master/notebooks/alexnet_in_keras.ipynb)"
   ]
  },
  {
   "cell_type": "markdown",
   "metadata": {},
   "source": [
    "#### Load dependencies"
   ]
  },
  {
   "cell_type": "code",
   "execution_count": 8,
   "metadata": {
    "vscode": {
     "languageId": "python"
    }
   },
   "outputs": [
    {
     "name": "stdout",
     "output_type": "stream",
     "text": [
      "Requirement already satisfied: tflearn in /usr/local/lib/python3.8/dist-packages (from -r /workspace/requirements.txt (line 1)) (0.5.0)\n",
      "Requirement already satisfied: keras==2.2.4 in /usr/local/lib/python3.8/dist-packages (from -r /workspace/requirements.txt (line 2)) (2.2.4)\n",
      "Requirement already satisfied: nltk in /usr/local/lib/python3.8/dist-packages (from -r /workspace/requirements.txt (line 3)) (3.8.1)\n",
      "Requirement already satisfied: gensim in /usr/local/lib/python3.8/dist-packages (from -r /workspace/requirements.txt (line 4)) (4.3.0)\n",
      "Requirement already satisfied: gym in /usr/local/lib/python3.8/dist-packages (from -r /workspace/requirements.txt (line 5)) (0.26.2)\n",
      "Requirement already satisfied: h5py==2.10.0 in /usr/local/lib/python3.8/dist-packages (from -r /workspace/requirements.txt (line 6)) (2.10.0)\n",
      "Requirement already satisfied: ipywidgets in /usr/local/lib/python3.8/dist-packages (from -r /workspace/requirements.txt (line 7)) (7.7.1)\n",
      "Requirement already satisfied: numpy in /usr/local/lib/python3.8/dist-packages (from tflearn->-r /workspace/requirements.txt (line 1)) (1.22.4)\n",
      "Requirement already satisfied: six in /usr/local/lib/python3.8/dist-packages (from tflearn->-r /workspace/requirements.txt (line 1)) (1.16.0)\n",
      "Requirement already satisfied: Pillow in /usr/local/lib/python3.8/dist-packages/Pillow-9.2.0-py3.8-linux-aarch64.egg (from tflearn->-r /workspace/requirements.txt (line 1)) (9.2.0)\n",
      "Requirement already satisfied: keras-applications>=1.0.6 in /usr/local/lib/python3.8/dist-packages (from keras==2.2.4->-r /workspace/requirements.txt (line 2)) (1.0.8)\n",
      "Requirement already satisfied: scipy>=0.14 in /usr/local/lib/python3.8/dist-packages (from keras==2.2.4->-r /workspace/requirements.txt (line 2)) (1.9.0)\n",
      "Requirement already satisfied: pyyaml in /usr/lib/python3/dist-packages (from keras==2.2.4->-r /workspace/requirements.txt (line 2)) (5.3.1)\n",
      "Requirement already satisfied: keras-preprocessing>=1.0.5 in /usr/local/lib/python3.8/dist-packages (from keras==2.2.4->-r /workspace/requirements.txt (line 2)) (1.1.2)\n",
      "Requirement already satisfied: joblib in /usr/local/lib/python3.8/dist-packages (from nltk->-r /workspace/requirements.txt (line 3)) (1.1.0)\n",
      "Requirement already satisfied: tqdm in /usr/local/lib/python3.8/dist-packages (from nltk->-r /workspace/requirements.txt (line 3)) (4.64.1)\n",
      "Requirement already satisfied: click in /usr/local/lib/python3.8/dist-packages (from nltk->-r /workspace/requirements.txt (line 3)) (8.1.3)\n",
      "Requirement already satisfied: regex>=2021.8.3 in /usr/local/lib/python3.8/dist-packages (from nltk->-r /workspace/requirements.txt (line 3)) (2022.10.31)\n",
      "Requirement already satisfied: FuzzyTM>=0.4.0 in /usr/local/lib/python3.8/dist-packages (from gensim->-r /workspace/requirements.txt (line 4)) (2.0.5)\n",
      "Requirement already satisfied: smart-open>=1.8.1 in /usr/local/lib/python3.8/dist-packages (from gensim->-r /workspace/requirements.txt (line 4)) (6.3.0)\n",
      "Requirement already satisfied: gym-notices>=0.0.4 in /usr/local/lib/python3.8/dist-packages (from gym->-r /workspace/requirements.txt (line 5)) (0.0.8)\n",
      "Requirement already satisfied: cloudpickle>=1.2.0 in /usr/local/lib/python3.8/dist-packages (from gym->-r /workspace/requirements.txt (line 5)) (2.2.1)\n",
      "Requirement already satisfied: importlib-metadata>=4.8.0; python_version < \"3.10\" in /usr/local/lib/python3.8/dist-packages (from gym->-r /workspace/requirements.txt (line 5)) (4.12.0)\n",
      "Requirement already satisfied: ipython-genutils~=0.2.0 in /usr/local/lib/python3.8/dist-packages (from ipywidgets->-r /workspace/requirements.txt (line 7)) (0.2.0)\n",
      "Requirement already satisfied: widgetsnbextension~=3.6.0 in /usr/local/lib/python3.8/dist-packages (from ipywidgets->-r /workspace/requirements.txt (line 7)) (3.6.1)\n",
      "Requirement already satisfied: ipython>=4.0.0; python_version >= \"3.3\" in /usr/local/lib/python3.8/dist-packages (from ipywidgets->-r /workspace/requirements.txt (line 7)) (8.4.0)\n",
      "Requirement already satisfied: traitlets>=4.3.1 in /usr/local/lib/python3.8/dist-packages (from ipywidgets->-r /workspace/requirements.txt (line 7)) (5.3.0)\n",
      "Requirement already satisfied: ipykernel>=4.5.1 in /usr/local/lib/python3.8/dist-packages (from ipywidgets->-r /workspace/requirements.txt (line 7)) (6.15.1)\n",
      "Requirement already satisfied: jupyterlab-widgets>=1.0.0; python_version >= \"3.6\" in /usr/local/lib/python3.8/dist-packages (from ipywidgets->-r /workspace/requirements.txt (line 7)) (1.1.1)\n",
      "Requirement already satisfied: pandas in /usr/local/lib/python3.8/dist-packages (from FuzzyTM>=0.4.0->gensim->-r /workspace/requirements.txt (line 4)) (1.4.3)\n",
      "Requirement already satisfied: pyfume in /usr/local/lib/python3.8/dist-packages (from FuzzyTM>=0.4.0->gensim->-r /workspace/requirements.txt (line 4)) (0.2.25)\n",
      "Requirement already satisfied: zipp>=0.5 in /usr/local/lib/python3.8/dist-packages (from importlib-metadata>=4.8.0; python_version < \"3.10\"->gym->-r /workspace/requirements.txt (line 5)) (3.8.1)\n",
      "Requirement already satisfied: notebook>=4.4.1 in /usr/local/lib/python3.8/dist-packages (from widgetsnbextension~=3.6.0->ipywidgets->-r /workspace/requirements.txt (line 7)) (6.4.12)\n",
      "Requirement already satisfied: pickleshare in /usr/local/lib/python3.8/dist-packages (from ipython>=4.0.0; python_version >= \"3.3\"->ipywidgets->-r /workspace/requirements.txt (line 7)) (0.7.5)\n",
      "Requirement already satisfied: prompt-toolkit!=3.0.0,!=3.0.1,<3.1.0,>=2.0.0 in /usr/local/lib/python3.8/dist-packages (from ipython>=4.0.0; python_version >= \"3.3\"->ipywidgets->-r /workspace/requirements.txt (line 7)) (3.0.30)\n",
      "Requirement already satisfied: setuptools>=18.5 in /usr/lib/python3/dist-packages (from ipython>=4.0.0; python_version >= \"3.3\"->ipywidgets->-r /workspace/requirements.txt (line 7)) (45.2.0)\n",
      "Requirement already satisfied: pexpect>4.3; sys_platform != \"win32\" in /usr/local/lib/python3.8/dist-packages (from ipython>=4.0.0; python_version >= \"3.3\"->ipywidgets->-r /workspace/requirements.txt (line 7)) (4.8.0)\n",
      "Requirement already satisfied: backcall in /usr/local/lib/python3.8/dist-packages (from ipython>=4.0.0; python_version >= \"3.3\"->ipywidgets->-r /workspace/requirements.txt (line 7)) (0.2.0)\n",
      "Requirement already satisfied: decorator in /usr/local/lib/python3.8/dist-packages (from ipython>=4.0.0; python_version >= \"3.3\"->ipywidgets->-r /workspace/requirements.txt (line 7)) (5.1.1)\n",
      "Requirement already satisfied: matplotlib-inline in /usr/local/lib/python3.8/dist-packages (from ipython>=4.0.0; python_version >= \"3.3\"->ipywidgets->-r /workspace/requirements.txt (line 7)) (0.1.3)\n",
      "Requirement already satisfied: pygments>=2.4.0 in /usr/local/lib/python3.8/dist-packages (from ipython>=4.0.0; python_version >= \"3.3\"->ipywidgets->-r /workspace/requirements.txt (line 7)) (2.12.0)\n",
      "Requirement already satisfied: stack-data in /usr/local/lib/python3.8/dist-packages (from ipython>=4.0.0; python_version >= \"3.3\"->ipywidgets->-r /workspace/requirements.txt (line 7)) (0.3.0)\n",
      "Requirement already satisfied: jedi>=0.16 in /usr/local/lib/python3.8/dist-packages (from ipython>=4.0.0; python_version >= \"3.3\"->ipywidgets->-r /workspace/requirements.txt (line 7)) (0.18.1)\n",
      "Requirement already satisfied: nest-asyncio in /usr/local/lib/python3.8/dist-packages (from ipykernel>=4.5.1->ipywidgets->-r /workspace/requirements.txt (line 7)) (1.5.5)\n",
      "Requirement already satisfied: pyzmq>=17 in /usr/local/lib/python3.8/dist-packages (from ipykernel>=4.5.1->ipywidgets->-r /workspace/requirements.txt (line 7)) (23.2.0)\n",
      "Requirement already satisfied: tornado>=6.1 in /usr/local/lib/python3.8/dist-packages (from ipykernel>=4.5.1->ipywidgets->-r /workspace/requirements.txt (line 7)) (6.2)\n",
      "Requirement already satisfied: debugpy>=1.0 in /usr/local/lib/python3.8/dist-packages (from ipykernel>=4.5.1->ipywidgets->-r /workspace/requirements.txt (line 7)) (1.6.2)\n",
      "Requirement already satisfied: packaging in /usr/local/lib/python3.8/dist-packages (from ipykernel>=4.5.1->ipywidgets->-r /workspace/requirements.txt (line 7)) (21.3)\n",
      "Requirement already satisfied: jupyter-client>=6.1.12 in /usr/local/lib/python3.8/dist-packages (from ipykernel>=4.5.1->ipywidgets->-r /workspace/requirements.txt (line 7)) (7.3.4)\n",
      "Requirement already satisfied: psutil in /usr/local/lib/python3.8/dist-packages (from ipykernel>=4.5.1->ipywidgets->-r /workspace/requirements.txt (line 7)) (5.9.1)\n",
      "Requirement already satisfied: pytz>=2020.1 in /usr/local/lib/python3.8/dist-packages (from pandas->FuzzyTM>=0.4.0->gensim->-r /workspace/requirements.txt (line 4)) (2022.1)\n",
      "Requirement already satisfied: python-dateutil>=2.8.1 in /usr/local/lib/python3.8/dist-packages (from pandas->FuzzyTM>=0.4.0->gensim->-r /workspace/requirements.txt (line 4)) (2.8.2)\n",
      "Requirement already satisfied: fst-pso in /usr/local/lib/python3.8/dist-packages (from pyfume->FuzzyTM>=0.4.0->gensim->-r /workspace/requirements.txt (line 4)) (1.8.1)\n",
      "Requirement already satisfied: simpful in /usr/local/lib/python3.8/dist-packages (from pyfume->FuzzyTM>=0.4.0->gensim->-r /workspace/requirements.txt (line 4)) (2.9.0)\n",
      "Requirement already satisfied: nbconvert>=5 in /usr/local/lib/python3.8/dist-packages (from notebook>=4.4.1->widgetsnbextension~=3.6.0->ipywidgets->-r /workspace/requirements.txt (line 7)) (6.5.0)\n",
      "Requirement already satisfied: Send2Trash>=1.8.0 in /usr/local/lib/python3.8/dist-packages (from notebook>=4.4.1->widgetsnbextension~=3.6.0->ipywidgets->-r /workspace/requirements.txt (line 7)) (1.8.0)\n",
      "Requirement already satisfied: terminado>=0.8.3 in /usr/local/lib/python3.8/dist-packages (from notebook>=4.4.1->widgetsnbextension~=3.6.0->ipywidgets->-r /workspace/requirements.txt (line 7)) (0.15.0)\n",
      "Requirement already satisfied: nbformat in /usr/local/lib/python3.8/dist-packages (from notebook>=4.4.1->widgetsnbextension~=3.6.0->ipywidgets->-r /workspace/requirements.txt (line 7)) (5.4.0)\n",
      "Requirement already satisfied: jupyter-core>=4.6.1 in /usr/local/lib/python3.8/dist-packages (from notebook>=4.4.1->widgetsnbextension~=3.6.0->ipywidgets->-r /workspace/requirements.txt (line 7)) (4.11.1)\n",
      "Requirement already satisfied: prometheus-client in /usr/local/lib/python3.8/dist-packages (from notebook>=4.4.1->widgetsnbextension~=3.6.0->ipywidgets->-r /workspace/requirements.txt (line 7)) (0.14.1)\n",
      "Requirement already satisfied: jinja2 in /usr/local/lib/python3.8/dist-packages (from notebook>=4.4.1->widgetsnbextension~=3.6.0->ipywidgets->-r /workspace/requirements.txt (line 7)) (3.1.2)\n",
      "Requirement already satisfied: argon2-cffi in /usr/local/lib/python3.8/dist-packages (from notebook>=4.4.1->widgetsnbextension~=3.6.0->ipywidgets->-r /workspace/requirements.txt (line 7)) (21.3.0)\n",
      "Requirement already satisfied: wcwidth in /usr/local/lib/python3.8/dist-packages (from prompt-toolkit!=3.0.0,!=3.0.1,<3.1.0,>=2.0.0->ipython>=4.0.0; python_version >= \"3.3\"->ipywidgets->-r /workspace/requirements.txt (line 7)) (0.2.5)\n",
      "Requirement already satisfied: ptyprocess>=0.5 in /usr/local/lib/python3.8/dist-packages (from pexpect>4.3; sys_platform != \"win32\"->ipython>=4.0.0; python_version >= \"3.3\"->ipywidgets->-r /workspace/requirements.txt (line 7)) (0.7.0)\n",
      "Requirement already satisfied: executing in /usr/local/lib/python3.8/dist-packages (from stack-data->ipython>=4.0.0; python_version >= \"3.3\"->ipywidgets->-r /workspace/requirements.txt (line 7)) (0.9.1)\n",
      "Requirement already satisfied: asttokens in /usr/local/lib/python3.8/dist-packages (from stack-data->ipython>=4.0.0; python_version >= \"3.3\"->ipywidgets->-r /workspace/requirements.txt (line 7)) (2.0.5)\n",
      "Requirement already satisfied: pure-eval in /usr/local/lib/python3.8/dist-packages (from stack-data->ipython>=4.0.0; python_version >= \"3.3\"->ipywidgets->-r /workspace/requirements.txt (line 7)) (0.2.2)\n",
      "Requirement already satisfied: parso<0.9.0,>=0.8.0 in /usr/local/lib/python3.8/dist-packages (from jedi>=0.16->ipython>=4.0.0; python_version >= \"3.3\"->ipywidgets->-r /workspace/requirements.txt (line 7)) (0.8.3)\n",
      "Requirement already satisfied: pyparsing!=3.0.5,>=2.0.2 in /usr/local/lib/python3.8/dist-packages (from packaging->ipykernel>=4.5.1->ipywidgets->-r /workspace/requirements.txt (line 7)) (3.0.9)\n",
      "Requirement already satisfied: entrypoints in /usr/local/lib/python3.8/dist-packages (from jupyter-client>=6.1.12->ipykernel>=4.5.1->ipywidgets->-r /workspace/requirements.txt (line 7)) (0.4)\n",
      "Requirement already satisfied: miniful in /usr/local/lib/python3.8/dist-packages (from fst-pso->pyfume->FuzzyTM>=0.4.0->gensim->-r /workspace/requirements.txt (line 4)) (0.0.6)\n",
      "Requirement already satisfied: requests in /usr/local/lib/python3.8/dist-packages/requests-2.28.1-py3.8.egg (from simpful->pyfume->FuzzyTM>=0.4.0->gensim->-r /workspace/requirements.txt (line 4)) (2.28.1)\n",
      "Requirement already satisfied: tinycss2 in /usr/local/lib/python3.8/dist-packages (from nbconvert>=5->notebook>=4.4.1->widgetsnbextension~=3.6.0->ipywidgets->-r /workspace/requirements.txt (line 7)) (1.1.1)\n",
      "Requirement already satisfied: jupyterlab-pygments in /usr/local/lib/python3.8/dist-packages (from nbconvert>=5->notebook>=4.4.1->widgetsnbextension~=3.6.0->ipywidgets->-r /workspace/requirements.txt (line 7)) (0.2.2)\n",
      "Requirement already satisfied: mistune<2,>=0.8.1 in /usr/local/lib/python3.8/dist-packages (from nbconvert>=5->notebook>=4.4.1->widgetsnbextension~=3.6.0->ipywidgets->-r /workspace/requirements.txt (line 7)) (0.8.4)\n",
      "Requirement already satisfied: nbclient>=0.5.0 in /usr/local/lib/python3.8/dist-packages (from nbconvert>=5->notebook>=4.4.1->widgetsnbextension~=3.6.0->ipywidgets->-r /workspace/requirements.txt (line 7)) (0.6.6)\n",
      "Requirement already satisfied: defusedxml in /usr/local/lib/python3.8/dist-packages (from nbconvert>=5->notebook>=4.4.1->widgetsnbextension~=3.6.0->ipywidgets->-r /workspace/requirements.txt (line 7)) (0.7.1)\n",
      "Requirement already satisfied: MarkupSafe>=2.0 in /usr/local/lib/python3.8/dist-packages (from nbconvert>=5->notebook>=4.4.1->widgetsnbextension~=3.6.0->ipywidgets->-r /workspace/requirements.txt (line 7)) (2.1.1)\n",
      "Requirement already satisfied: beautifulsoup4 in /usr/local/lib/python3.8/dist-packages (from nbconvert>=5->notebook>=4.4.1->widgetsnbextension~=3.6.0->ipywidgets->-r /workspace/requirements.txt (line 7)) (4.11.1)\n",
      "Requirement already satisfied: pandocfilters>=1.4.1 in /usr/local/lib/python3.8/dist-packages (from nbconvert>=5->notebook>=4.4.1->widgetsnbextension~=3.6.0->ipywidgets->-r /workspace/requirements.txt (line 7)) (1.5.0)\n",
      "Requirement already satisfied: bleach in /usr/local/lib/python3.8/dist-packages (from nbconvert>=5->notebook>=4.4.1->widgetsnbextension~=3.6.0->ipywidgets->-r /workspace/requirements.txt (line 7)) (5.0.1)\n",
      "Requirement already satisfied: jsonschema>=2.6 in /usr/local/lib/python3.8/dist-packages (from nbformat->notebook>=4.4.1->widgetsnbextension~=3.6.0->ipywidgets->-r /workspace/requirements.txt (line 7)) (4.9.1)\n",
      "Requirement already satisfied: fastjsonschema in /usr/local/lib/python3.8/dist-packages (from nbformat->notebook>=4.4.1->widgetsnbextension~=3.6.0->ipywidgets->-r /workspace/requirements.txt (line 7)) (2.16.1)\n",
      "Requirement already satisfied: argon2-cffi-bindings in /usr/local/lib/python3.8/dist-packages (from argon2-cffi->notebook>=4.4.1->widgetsnbextension~=3.6.0->ipywidgets->-r /workspace/requirements.txt (line 7)) (21.2.0)\n",
      "Requirement already satisfied: certifi>=2017.4.17 in /usr/local/lib/python3.8/dist-packages/certifi-2022.6.15-py3.8.egg (from requests->simpful->pyfume->FuzzyTM>=0.4.0->gensim->-r /workspace/requirements.txt (line 4)) (2022.6.15)\n",
      "Requirement already satisfied: charset-normalizer<3,>=2 in /usr/local/lib/python3.8/dist-packages/charset_normalizer-2.1.0-py3.8.egg (from requests->simpful->pyfume->FuzzyTM>=0.4.0->gensim->-r /workspace/requirements.txt (line 4)) (2.1.0)\n",
      "Requirement already satisfied: idna<4,>=2.5 in /usr/local/lib/python3.8/dist-packages/idna-3.3-py3.8.egg (from requests->simpful->pyfume->FuzzyTM>=0.4.0->gensim->-r /workspace/requirements.txt (line 4)) (3.3)\n",
      "Requirement already satisfied: urllib3<1.27,>=1.21.1 in /usr/local/lib/python3.8/dist-packages/urllib3-1.26.11-py3.8.egg (from requests->simpful->pyfume->FuzzyTM>=0.4.0->gensim->-r /workspace/requirements.txt (line 4)) (1.26.11)\n",
      "Requirement already satisfied: webencodings>=0.4 in /usr/local/lib/python3.8/dist-packages (from tinycss2->nbconvert>=5->notebook>=4.4.1->widgetsnbextension~=3.6.0->ipywidgets->-r /workspace/requirements.txt (line 7)) (0.5.1)\n",
      "Requirement already satisfied: soupsieve>1.2 in /usr/local/lib/python3.8/dist-packages (from beautifulsoup4->nbconvert>=5->notebook>=4.4.1->widgetsnbextension~=3.6.0->ipywidgets->-r /workspace/requirements.txt (line 7)) (2.3.2.post1)\n",
      "Requirement already satisfied: pkgutil-resolve-name>=1.3.10; python_version < \"3.9\" in /usr/local/lib/python3.8/dist-packages (from jsonschema>=2.6->nbformat->notebook>=4.4.1->widgetsnbextension~=3.6.0->ipywidgets->-r /workspace/requirements.txt (line 7)) (1.3.10)\n",
      "Requirement already satisfied: attrs>=17.4.0 in /usr/local/lib/python3.8/dist-packages (from jsonschema>=2.6->nbformat->notebook>=4.4.1->widgetsnbextension~=3.6.0->ipywidgets->-r /workspace/requirements.txt (line 7)) (22.1.0)\n",
      "Requirement already satisfied: pyrsistent!=0.17.0,!=0.17.1,!=0.17.2,>=0.14.0 in /usr/local/lib/python3.8/dist-packages (from jsonschema>=2.6->nbformat->notebook>=4.4.1->widgetsnbextension~=3.6.0->ipywidgets->-r /workspace/requirements.txt (line 7)) (0.18.1)\n",
      "Requirement already satisfied: importlib-resources>=1.4.0; python_version < \"3.9\" in /usr/local/lib/python3.8/dist-packages (from jsonschema>=2.6->nbformat->notebook>=4.4.1->widgetsnbextension~=3.6.0->ipywidgets->-r /workspace/requirements.txt (line 7)) (5.9.0)\n",
      "Requirement already satisfied: cffi>=1.0.1 in /usr/local/lib/python3.8/dist-packages (from argon2-cffi-bindings->argon2-cffi->notebook>=4.4.1->widgetsnbextension~=3.6.0->ipywidgets->-r /workspace/requirements.txt (line 7)) (1.15.1)\n",
      "Requirement already satisfied: pycparser in /usr/local/lib/python3.8/dist-packages (from cffi>=1.0.1->argon2-cffi-bindings->argon2-cffi->notebook>=4.4.1->widgetsnbextension~=3.6.0->ipywidgets->-r /workspace/requirements.txt (line 7)) (2.21)\n",
      "Note: you may need to restart the kernel to use updated packages.\n"
     ]
    }
   ],
   "source": [
    "%pip install -r /workspace/requirements.txt"
   ]
  },
  {
   "cell_type": "code",
   "execution_count": null,
   "metadata": {
    "vscode": {
     "languageId": "python"
    }
   },
   "outputs": [],
   "source": [
    "import tensorflow as tf\n",
    "tf.__version__"
   ]
  },
  {
   "cell_type": "code",
   "execution_count": 2,
   "metadata": {
    "vscode": {
     "languageId": "python"
    }
   },
   "outputs": [
    {
     "name": "stderr",
     "output_type": "stream",
     "text": [
      "Using TensorFlow backend.\n"
     ]
    },
    {
     "name": "stdout",
     "output_type": "stream",
     "text": [
      "WARNING:tensorflow:Deprecation warnings have been disabled. Set TF_ENABLE_DEPRECATION_WARNINGS=1 to re-enable them.\n"
     ]
    },
    {
     "name": "stderr",
     "output_type": "stream",
     "text": [
      "2023-01-26 13:19:13.021772: I tensorflow/stream_executor/platform/default/dso_loader.cc:49] Successfully opened dynamic library libcudart.so.11.0\n"
     ]
    }
   ],
   "source": [
    "import keras\n",
    "from keras.models import Sequential\n",
    "from keras.layers import Dense, Dropout, Flatten, Conv2D, MaxPooling2D\n",
    "from keras.layers.normalization import BatchNormalization"
   ]
  },
  {
   "cell_type": "markdown",
   "metadata": {},
   "source": [
    "#### Load *and preprocess* data"
   ]
  },
  {
   "cell_type": "code",
   "execution_count": 3,
   "metadata": {
    "vscode": {
     "languageId": "python"
    }
   },
   "outputs": [
    {
     "name": "stdout",
     "output_type": "stream",
     "text": [
      "Downloading Oxford 17 category Flower Dataset, Please wait...\n"
     ]
    },
    {
     "name": "stderr",
     "output_type": "stream",
     "text": [
      "100.0% 60276736 / 60270631\n"
     ]
    },
    {
     "name": "stdout",
     "output_type": "stream",
     "text": [
      "Succesfully downloaded 17flowers.tgz 60270631 bytes.\n",
      "File Extracted\n",
      "Starting to parse images...\n",
      "Parsing Done!\n"
     ]
    }
   ],
   "source": [
    "import tflearn.datasets.oxflower17 as oxflower17\n",
    "X, Y = oxflower17.load_data(one_hot=True)"
   ]
  },
  {
   "cell_type": "markdown",
   "metadata": {},
   "source": [
    "#### Design neural network architecture"
   ]
  },
  {
   "cell_type": "code",
   "execution_count": 4,
   "metadata": {
    "vscode": {
     "languageId": "python"
    }
   },
   "outputs": [
    {
     "name": "stdout",
     "output_type": "stream",
     "text": [
      "WARNING:tensorflow:From /usr/local/lib/python3.8/dist-packages/keras/backend/tensorflow_backend.py:74: The name tf.get_default_graph is deprecated. Please use tf.compat.v1.get_default_graph instead.\n",
      "\n",
      "WARNING:tensorflow:From /usr/local/lib/python3.8/dist-packages/keras/backend/tensorflow_backend.py:517: The name tf.placeholder is deprecated. Please use tf.compat.v1.placeholder instead.\n",
      "\n",
      "WARNING:tensorflow:From /usr/local/lib/python3.8/dist-packages/keras/backend/tensorflow_backend.py:4138: The name tf.random_uniform is deprecated. Please use tf.random.uniform instead.\n",
      "\n",
      "WARNING:tensorflow:From /usr/local/lib/python3.8/dist-packages/keras/backend/tensorflow_backend.py:3976: The name tf.nn.max_pool is deprecated. Please use tf.nn.max_pool2d instead.\n",
      "\n",
      "WARNING:tensorflow:From /usr/local/lib/python3.8/dist-packages/keras/backend/tensorflow_backend.py:174: The name tf.get_default_session is deprecated. Please use tf.compat.v1.get_default_session instead.\n",
      "\n",
      "WARNING:tensorflow:From /usr/local/lib/python3.8/dist-packages/keras/backend/tensorflow_backend.py:181: The name tf.ConfigProto is deprecated. Please use tf.compat.v1.ConfigProto instead.\n",
      "\n",
      "WARNING:tensorflow:From /usr/local/lib/python3.8/dist-packages/keras/backend/tensorflow_backend.py:186: The name tf.Session is deprecated. Please use tf.compat.v1.Session instead.\n",
      "\n"
     ]
    },
    {
     "name": "stderr",
     "output_type": "stream",
     "text": [
      "2023-01-26 13:20:15.397048: I tensorflow/core/platform/profile_utils/cpu_utils.cc:109] CPU Frequency: 31250000 Hz\n",
      "2023-01-26 13:20:15.398982: I tensorflow/compiler/xla/service/service.cc:168] XLA service 0x3f734ad0 initialized for platform Host (this does not guarantee that XLA will be used). Devices:\n",
      "2023-01-26 13:20:15.399115: I tensorflow/compiler/xla/service/service.cc:176]   StreamExecutor device (0): Host, Default Version\n",
      "2023-01-26 13:20:15.423029: I tensorflow/stream_executor/platform/default/dso_loader.cc:49] Successfully opened dynamic library libcuda.so.1\n",
      "2023-01-26 13:20:15.678884: I tensorflow/stream_executor/cuda/cuda_gpu_executor.cc:1049] ARM64 does not support NUMA - returning NUMA node zero\n",
      "2023-01-26 13:20:15.679745: I tensorflow/compiler/xla/service/service.cc:168] XLA service 0x3d8dafb0 initialized for platform CUDA (this does not guarantee that XLA will be used). Devices:\n",
      "2023-01-26 13:20:15.679871: I tensorflow/compiler/xla/service/service.cc:176]   StreamExecutor device (0): Xavier, Compute Capability 7.2\n",
      "2023-01-26 13:20:15.681415: I tensorflow/stream_executor/cuda/cuda_gpu_executor.cc:1049] ARM64 does not support NUMA - returning NUMA node zero\n",
      "2023-01-26 13:20:15.681698: I tensorflow/core/common_runtime/gpu/gpu_device.cc:1666] Found device 0 with properties: \n",
      "name: Xavier major: 7 minor: 2 memoryClockRate(GHz): 1.109\n",
      "pciBusID: 0000:00:00.0\n",
      "2023-01-26 13:20:15.681879: I tensorflow/stream_executor/platform/default/dso_loader.cc:49] Successfully opened dynamic library libcudart.so.11.0\n",
      "2023-01-26 13:20:15.716561: I tensorflow/stream_executor/platform/default/dso_loader.cc:49] Successfully opened dynamic library libcublas.so.11\n",
      "2023-01-26 13:20:15.863706: I tensorflow/stream_executor/platform/default/dso_loader.cc:49] Successfully opened dynamic library libcufft.so.10\n",
      "2023-01-26 13:20:15.867700: I tensorflow/stream_executor/platform/default/dso_loader.cc:49] Successfully opened dynamic library libcurand.so.10\n",
      "2023-01-26 13:20:15.872587: I tensorflow/stream_executor/platform/default/dso_loader.cc:49] Successfully opened dynamic library libcusolver.so.11\n",
      "2023-01-26 13:20:15.882163: I tensorflow/stream_executor/platform/default/dso_loader.cc:49] Successfully opened dynamic library libcusparse.so.11\n",
      "2023-01-26 13:20:15.884254: I tensorflow/stream_executor/platform/default/dso_loader.cc:49] Successfully opened dynamic library libcudnn.so.8\n",
      "2023-01-26 13:20:15.884806: I tensorflow/stream_executor/cuda/cuda_gpu_executor.cc:1049] ARM64 does not support NUMA - returning NUMA node zero\n",
      "2023-01-26 13:20:15.885394: I tensorflow/stream_executor/cuda/cuda_gpu_executor.cc:1049] ARM64 does not support NUMA - returning NUMA node zero\n",
      "2023-01-26 13:20:15.885589: I tensorflow/core/common_runtime/gpu/gpu_device.cc:1794] Adding visible gpu devices: 0\n",
      "2023-01-26 13:20:15.886495: I tensorflow/stream_executor/platform/default/dso_loader.cc:49] Successfully opened dynamic library libcudart.so.11.0\n"
     ]
    },
    {
     "name": "stdout",
     "output_type": "stream",
     "text": [
      "WARNING:tensorflow:From /usr/local/lib/python3.8/dist-packages/keras/backend/tensorflow_backend.py:190: The name tf.global_variables is deprecated. Please use tf.compat.v1.global_variables instead.\n",
      "\n",
      "WARNING:tensorflow:From /usr/local/lib/python3.8/dist-packages/keras/backend/tensorflow_backend.py:199: The name tf.is_variable_initialized is deprecated. Please use tf.compat.v1.is_variable_initialized instead.\n",
      "\n"
     ]
    },
    {
     "name": "stderr",
     "output_type": "stream",
     "text": [
      "2023-01-26 13:20:18.010130: I tensorflow/core/common_runtime/gpu/gpu_device.cc:1206] Device interconnect StreamExecutor with strength 1 edge matrix:\n",
      "2023-01-26 13:20:18.010339: I tensorflow/core/common_runtime/gpu/gpu_device.cc:1212]      0 \n",
      "2023-01-26 13:20:18.010420: I tensorflow/core/common_runtime/gpu/gpu_device.cc:1225] 0:   N \n",
      "2023-01-26 13:20:18.011925: I tensorflow/stream_executor/cuda/cuda_gpu_executor.cc:1049] ARM64 does not support NUMA - returning NUMA node zero\n",
      "2023-01-26 13:20:18.012562: I tensorflow/stream_executor/cuda/cuda_gpu_executor.cc:1049] ARM64 does not support NUMA - returning NUMA node zero\n",
      "2023-01-26 13:20:18.012833: I tensorflow/core/common_runtime/gpu/gpu_device.cc:1351] Created TensorFlow device (/job:localhost/replica:0/task:0/device:GPU:0 with 2144 MB memory) -> physical GPU (device: 0, name: Xavier, pci bus id: 0000:00:00.0, compute capability: 7.2)\n"
     ]
    },
    {
     "name": "stdout",
     "output_type": "stream",
     "text": [
      "WARNING:tensorflow:From /usr/local/lib/python3.8/dist-packages/keras/backend/tensorflow_backend.py:206: The name tf.variables_initializer is deprecated. Please use tf.compat.v1.variables_initializer instead.\n",
      "\n",
      "WARNING:tensorflow:From /usr/local/lib/python3.8/dist-packages/keras/backend/tensorflow_backend.py:1834: The name tf.nn.fused_batch_norm is deprecated. Please use tf.compat.v1.nn.fused_batch_norm instead.\n",
      "\n",
      "WARNING:tensorflow:From /usr/local/lib/python3.8/dist-packages/keras/backend/tensorflow_backend.py:133: The name tf.placeholder_with_default is deprecated. Please use tf.compat.v1.placeholder_with_default instead.\n",
      "\n"
     ]
    }
   ],
   "source": [
    "model = Sequential()\n",
    "\n",
    "model.add(Conv2D(96, kernel_size=(11, 11), strides=(4, 4), activation='relu', input_shape=(224, 224, 3)))\n",
    "model.add(MaxPooling2D(pool_size=(3, 3), strides=(2, 2)))\n",
    "model.add(BatchNormalization())\n",
    "\n",
    "model.add(Conv2D(256, kernel_size=(5, 5), activation='relu'))\n",
    "model.add(MaxPooling2D(pool_size=(3, 3), strides=(2, 2)))\n",
    "model.add(BatchNormalization())\n",
    "\n",
    "model.add(Conv2D(256, kernel_size=(3, 3), activation='relu'))\n",
    "model.add(Conv2D(384, kernel_size=(3, 3), activation='relu'))\n",
    "model.add(Conv2D(384, kernel_size=(3, 3), activation='relu'))\n",
    "model.add(MaxPooling2D(pool_size=(3, 3), strides=(2, 2)))\n",
    "model.add(BatchNormalization())\n",
    "\n",
    "model.add(Flatten())\n",
    "model.add(Dense(4096, activation='tanh'))\n",
    "model.add(Dropout(0.5))\n",
    "model.add(Dense(4096, activation='tanh'))\n",
    "model.add(Dropout(0.5))\n",
    "\n",
    "model.add(Dense(17, activation='softmax'))"
   ]
  },
  {
   "cell_type": "code",
   "execution_count": 5,
   "metadata": {
    "vscode": {
     "languageId": "python"
    }
   },
   "outputs": [
    {
     "name": "stdout",
     "output_type": "stream",
     "text": [
      "_________________________________________________________________\n",
      "Layer (type)                 Output Shape              Param #   \n",
      "=================================================================\n",
      "conv2d_1 (Conv2D)            (None, 54, 54, 96)        34944     \n",
      "_________________________________________________________________\n",
      "max_pooling2d_1 (MaxPooling2 (None, 26, 26, 96)        0         \n",
      "_________________________________________________________________\n",
      "batch_normalization_1 (Batch (None, 26, 26, 96)        384       \n",
      "_________________________________________________________________\n",
      "conv2d_2 (Conv2D)            (None, 22, 22, 256)       614656    \n",
      "_________________________________________________________________\n",
      "max_pooling2d_2 (MaxPooling2 (None, 10, 10, 256)       0         \n",
      "_________________________________________________________________\n",
      "batch_normalization_2 (Batch (None, 10, 10, 256)       1024      \n",
      "_________________________________________________________________\n",
      "conv2d_3 (Conv2D)            (None, 8, 8, 256)         590080    \n",
      "_________________________________________________________________\n",
      "conv2d_4 (Conv2D)            (None, 6, 6, 384)         885120    \n",
      "_________________________________________________________________\n",
      "conv2d_5 (Conv2D)            (None, 4, 4, 384)         1327488   \n",
      "_________________________________________________________________\n",
      "max_pooling2d_3 (MaxPooling2 (None, 1, 1, 384)         0         \n",
      "_________________________________________________________________\n",
      "batch_normalization_3 (Batch (None, 1, 1, 384)         1536      \n",
      "_________________________________________________________________\n",
      "flatten_1 (Flatten)          (None, 384)               0         \n",
      "_________________________________________________________________\n",
      "dense_1 (Dense)              (None, 4096)              1576960   \n",
      "_________________________________________________________________\n",
      "dropout_1 (Dropout)          (None, 4096)              0         \n",
      "_________________________________________________________________\n",
      "dense_2 (Dense)              (None, 4096)              16781312  \n",
      "_________________________________________________________________\n",
      "dropout_2 (Dropout)          (None, 4096)              0         \n",
      "_________________________________________________________________\n",
      "dense_3 (Dense)              (None, 17)                69649     \n",
      "=================================================================\n",
      "Total params: 21,883,153\n",
      "Trainable params: 21,881,681\n",
      "Non-trainable params: 1,472\n",
      "_________________________________________________________________\n"
     ]
    }
   ],
   "source": [
    "model.summary()"
   ]
  },
  {
   "cell_type": "markdown",
   "metadata": {},
   "source": [
    "#### Configure model"
   ]
  },
  {
   "cell_type": "code",
   "execution_count": 6,
   "metadata": {
    "vscode": {
     "languageId": "python"
    }
   },
   "outputs": [
    {
     "name": "stdout",
     "output_type": "stream",
     "text": [
      "WARNING:tensorflow:From /usr/local/lib/python3.8/dist-packages/keras/optimizers.py:790: The name tf.train.Optimizer is deprecated. Please use tf.compat.v1.train.Optimizer instead.\n",
      "\n",
      "WARNING:tensorflow:From /usr/local/lib/python3.8/dist-packages/keras/backend/tensorflow_backend.py:3295: The name tf.log is deprecated. Please use tf.math.log instead.\n",
      "\n"
     ]
    }
   ],
   "source": [
    "model.compile(loss='categorical_crossentropy', optimizer='adam', metrics=['accuracy'])"
   ]
  },
  {
   "cell_type": "markdown",
   "metadata": {},
   "source": [
    "#### Train!"
   ]
  },
  {
   "cell_type": "code",
   "execution_count": 9,
   "metadata": {
    "vscode": {
     "languageId": "python"
    }
   },
   "outputs": [
    {
     "name": "stdout",
     "output_type": "stream",
     "text": [
      "Train on 1224 samples, validate on 136 samples\n",
      "Epoch 1/100\n",
      "1224/1224 [==============================] - 7s 5ms/step - loss: 3.9526 - acc: 0.2296 - val_loss: 5.0800 - val_acc: 0.1324\n",
      "Epoch 2/100\n",
      "1224/1224 [==============================] - 6s 5ms/step - loss: 2.6512 - acc: 0.3382 - val_loss: 2.9179 - val_acc: 0.1838\n",
      "Epoch 3/100\n",
      "1224/1224 [==============================] - 6s 5ms/step - loss: 2.6394 - acc: 0.3309 - val_loss: 3.3669 - val_acc: 0.3162\n",
      "Epoch 4/100\n",
      "1224/1224 [==============================] - 6s 5ms/step - loss: 2.3986 - acc: 0.3832 - val_loss: 2.9579 - val_acc: 0.2941\n",
      "Epoch 5/100\n",
      "1224/1224 [==============================] - 6s 5ms/step - loss: 2.0724 - acc: 0.4183 - val_loss: 5.5933 - val_acc: 0.2574\n",
      "Epoch 6/100\n",
      "1224/1224 [==============================] - 6s 5ms/step - loss: 2.3485 - acc: 0.4306 - val_loss: 3.5050 - val_acc: 0.2500\n",
      "Epoch 7/100\n",
      "1224/1224 [==============================] - 6s 5ms/step - loss: 2.2850 - acc: 0.4257 - val_loss: 3.8016 - val_acc: 0.1985\n",
      "Epoch 8/100\n",
      "1224/1224 [==============================] - 6s 5ms/step - loss: 2.3924 - acc: 0.4044 - val_loss: 3.2975 - val_acc: 0.2941\n",
      "Epoch 9/100\n",
      "1224/1224 [==============================] - 7s 6ms/step - loss: 1.8555 - acc: 0.4812 - val_loss: 3.1659 - val_acc: 0.3750\n",
      "Epoch 10/100\n",
      "1224/1224 [==============================] - 6s 5ms/step - loss: 1.7588 - acc: 0.5074 - val_loss: 2.8134 - val_acc: 0.4191\n",
      "Epoch 11/100\n",
      "1224/1224 [==============================] - 6s 5ms/step - loss: 1.8117 - acc: 0.5278 - val_loss: 2.7375 - val_acc: 0.4338\n",
      "Epoch 12/100\n",
      "1224/1224 [==============================] - 6s 5ms/step - loss: 1.5837 - acc: 0.5474 - val_loss: 3.1285 - val_acc: 0.3676\n",
      "Epoch 13/100\n",
      "1224/1224 [==============================] - 6s 5ms/step - loss: 1.8817 - acc: 0.5074 - val_loss: 3.3579 - val_acc: 0.3235\n",
      "Epoch 14/100\n",
      "1224/1224 [==============================] - 6s 5ms/step - loss: 1.6331 - acc: 0.5441 - val_loss: 5.5976 - val_acc: 0.2132\n",
      "Epoch 15/100\n",
      "1224/1224 [==============================] - 6s 5ms/step - loss: 1.4344 - acc: 0.6046 - val_loss: 3.0805 - val_acc: 0.3456\n",
      "Epoch 16/100\n",
      "1224/1224 [==============================] - 6s 5ms/step - loss: 1.6812 - acc: 0.5408 - val_loss: 2.8201 - val_acc: 0.3456\n",
      "Epoch 17/100\n",
      "1224/1224 [==============================] - 6s 5ms/step - loss: 1.5625 - acc: 0.5588 - val_loss: 3.6602 - val_acc: 0.3162\n",
      "Epoch 18/100\n",
      "1224/1224 [==============================] - 6s 5ms/step - loss: 1.3713 - acc: 0.6054 - val_loss: 2.5337 - val_acc: 0.4191\n",
      "Epoch 19/100\n",
      "1224/1224 [==============================] - 6s 5ms/step - loss: 1.4070 - acc: 0.6266 - val_loss: 4.4373 - val_acc: 0.3015\n",
      "Epoch 20/100\n",
      "1224/1224 [==============================] - 6s 5ms/step - loss: 1.4892 - acc: 0.6119 - val_loss: 3.8349 - val_acc: 0.3162\n",
      "Epoch 21/100\n",
      "1224/1224 [==============================] - 7s 5ms/step - loss: 1.3144 - acc: 0.6201 - val_loss: 3.5792 - val_acc: 0.3824\n",
      "Epoch 22/100\n",
      "1224/1224 [==============================] - 6s 5ms/step - loss: 1.2990 - acc: 0.6356 - val_loss: 2.3976 - val_acc: 0.4632\n",
      "Epoch 23/100\n",
      "1224/1224 [==============================] - 6s 5ms/step - loss: 1.0457 - acc: 0.6838 - val_loss: 2.5845 - val_acc: 0.4559\n",
      "Epoch 24/100\n",
      "1224/1224 [==============================] - 6s 5ms/step - loss: 1.1427 - acc: 0.6773 - val_loss: 3.3670 - val_acc: 0.3897\n",
      "Epoch 25/100\n",
      "1224/1224 [==============================] - 6s 5ms/step - loss: 1.0640 - acc: 0.6953 - val_loss: 3.0420 - val_acc: 0.4191\n",
      "Epoch 26/100\n",
      "1224/1224 [==============================] - 6s 5ms/step - loss: 1.0776 - acc: 0.6993 - val_loss: 2.7779 - val_acc: 0.4559\n",
      "Epoch 27/100\n",
      "1224/1224 [==============================] - 6s 5ms/step - loss: 0.9786 - acc: 0.7255 - val_loss: 2.6651 - val_acc: 0.4632\n",
      "Epoch 28/100\n",
      "1224/1224 [==============================] - 7s 5ms/step - loss: 0.8290 - acc: 0.7492 - val_loss: 2.9525 - val_acc: 0.4779\n",
      "Epoch 29/100\n",
      "1224/1224 [==============================] - 6s 5ms/step - loss: 0.9534 - acc: 0.7279 - val_loss: 2.7056 - val_acc: 0.5000\n",
      "Epoch 30/100\n",
      "1224/1224 [==============================] - 7s 5ms/step - loss: 0.9501 - acc: 0.7214 - val_loss: 2.5714 - val_acc: 0.5147\n",
      "Epoch 31/100\n",
      "1224/1224 [==============================] - 7s 5ms/step - loss: 0.8194 - acc: 0.7745 - val_loss: 4.6951 - val_acc: 0.3309\n",
      "Epoch 32/100\n",
      "1224/1224 [==============================] - 7s 5ms/step - loss: 0.8271 - acc: 0.7729 - val_loss: 2.4751 - val_acc: 0.4926\n",
      "Epoch 33/100\n",
      "1224/1224 [==============================] - 7s 5ms/step - loss: 0.9900 - acc: 0.7377 - val_loss: 3.1116 - val_acc: 0.4412\n",
      "Epoch 34/100\n",
      "1224/1224 [==============================] - 7s 5ms/step - loss: 0.8830 - acc: 0.7623 - val_loss: 3.4504 - val_acc: 0.4926\n",
      "Epoch 35/100\n",
      "1224/1224 [==============================] - 7s 5ms/step - loss: 0.6235 - acc: 0.8088 - val_loss: 2.0496 - val_acc: 0.5735\n",
      "Epoch 36/100\n",
      "1224/1224 [==============================] - 7s 5ms/step - loss: 0.5981 - acc: 0.8227 - val_loss: 2.0657 - val_acc: 0.5882\n",
      "Epoch 37/100\n",
      "1224/1224 [==============================] - 7s 5ms/step - loss: 0.4976 - acc: 0.8587 - val_loss: 2.7497 - val_acc: 0.5000\n",
      "Epoch 38/100\n",
      "1224/1224 [==============================] - 7s 5ms/step - loss: 0.7322 - acc: 0.7974 - val_loss: 2.4174 - val_acc: 0.5662\n",
      "Epoch 39/100\n",
      "1224/1224 [==============================] - 7s 5ms/step - loss: 0.4963 - acc: 0.8448 - val_loss: 2.3782 - val_acc: 0.5441\n",
      "Epoch 40/100\n",
      "1224/1224 [==============================] - 7s 5ms/step - loss: 0.6847 - acc: 0.8227 - val_loss: 3.3454 - val_acc: 0.4485\n",
      "Epoch 41/100\n",
      "1224/1224 [==============================] - 7s 5ms/step - loss: 0.7222 - acc: 0.8039 - val_loss: 2.8123 - val_acc: 0.5074\n",
      "Epoch 42/100\n",
      "1224/1224 [==============================] - 7s 5ms/step - loss: 0.3653 - acc: 0.8873 - val_loss: 2.8264 - val_acc: 0.5074\n",
      "Epoch 43/100\n",
      "1224/1224 [==============================] - 7s 5ms/step - loss: 0.4094 - acc: 0.8848 - val_loss: 2.7428 - val_acc: 0.6029\n",
      "Epoch 44/100\n",
      "1224/1224 [==============================] - 7s 5ms/step - loss: 0.6687 - acc: 0.8178 - val_loss: 2.6908 - val_acc: 0.6029\n",
      "Epoch 45/100\n",
      "1224/1224 [==============================] - 7s 5ms/step - loss: 0.5015 - acc: 0.8636 - val_loss: 3.4295 - val_acc: 0.5515\n",
      "Epoch 46/100\n",
      "1224/1224 [==============================] - 7s 5ms/step - loss: 0.4647 - acc: 0.8668 - val_loss: 3.5842 - val_acc: 0.5294\n",
      "Epoch 47/100\n",
      "1224/1224 [==============================] - 7s 5ms/step - loss: 0.4604 - acc: 0.8725 - val_loss: 3.7163 - val_acc: 0.4632\n",
      "Epoch 48/100\n",
      "1224/1224 [==============================] - 7s 5ms/step - loss: 0.4334 - acc: 0.8676 - val_loss: 2.5794 - val_acc: 0.6029\n",
      "Epoch 49/100\n",
      "1224/1224 [==============================] - 7s 5ms/step - loss: 0.3336 - acc: 0.9028 - val_loss: 2.4830 - val_acc: 0.5735\n",
      "Epoch 50/100\n",
      "1224/1224 [==============================] - 7s 5ms/step - loss: 0.2283 - acc: 0.9322 - val_loss: 2.4774 - val_acc: 0.5662\n",
      "Epoch 51/100\n",
      "1224/1224 [==============================] - 7s 5ms/step - loss: 0.4121 - acc: 0.8962 - val_loss: 2.3094 - val_acc: 0.6250\n",
      "Epoch 52/100\n",
      "1224/1224 [==============================] - 7s 5ms/step - loss: 0.5638 - acc: 0.8660 - val_loss: 3.1301 - val_acc: 0.5441\n",
      "Epoch 53/100\n",
      "1224/1224 [==============================] - 7s 5ms/step - loss: 0.3901 - acc: 0.9020 - val_loss: 2.8747 - val_acc: 0.5809\n",
      "Epoch 54/100\n",
      "1224/1224 [==============================] - 7s 5ms/step - loss: 0.5637 - acc: 0.8497 - val_loss: 2.3965 - val_acc: 0.5882\n",
      "Epoch 55/100\n",
      "1224/1224 [==============================] - 7s 5ms/step - loss: 0.7538 - acc: 0.8276 - val_loss: 2.6058 - val_acc: 0.6250\n",
      "Epoch 56/100\n",
      "1224/1224 [==============================] - 7s 5ms/step - loss: 0.4729 - acc: 0.8717 - val_loss: 4.2367 - val_acc: 0.4559\n",
      "Epoch 57/100\n",
      "1224/1224 [==============================] - 7s 5ms/step - loss: 0.5438 - acc: 0.8668 - val_loss: 2.9239 - val_acc: 0.5588\n",
      "Epoch 58/100\n",
      "1224/1224 [==============================] - 7s 5ms/step - loss: 0.6304 - acc: 0.8554 - val_loss: 3.0034 - val_acc: 0.5662\n",
      "Epoch 59/100\n",
      "1224/1224 [==============================] - 7s 5ms/step - loss: 0.3511 - acc: 0.8922 - val_loss: 2.9346 - val_acc: 0.5221\n",
      "Epoch 60/100\n",
      "1224/1224 [==============================] - 7s 5ms/step - loss: 0.4434 - acc: 0.8856 - val_loss: 5.1718 - val_acc: 0.4485\n",
      "Epoch 61/100\n",
      "1224/1224 [==============================] - 7s 5ms/step - loss: 0.4232 - acc: 0.8922 - val_loss: 2.8631 - val_acc: 0.6544\n",
      "Epoch 62/100\n",
      "1224/1224 [==============================] - 7s 5ms/step - loss: 0.5902 - acc: 0.8791 - val_loss: 3.4526 - val_acc: 0.4926\n",
      "Epoch 63/100\n",
      "1224/1224 [==============================] - 7s 5ms/step - loss: 0.5696 - acc: 0.8758 - val_loss: 2.8214 - val_acc: 0.6324\n",
      "Epoch 64/100\n",
      "1224/1224 [==============================] - 7s 5ms/step - loss: 0.3595 - acc: 0.9101 - val_loss: 3.5434 - val_acc: 0.5368\n",
      "Epoch 65/100\n",
      "1224/1224 [==============================] - 7s 5ms/step - loss: 0.5914 - acc: 0.8619 - val_loss: 5.5125 - val_acc: 0.3750\n",
      "Epoch 66/100\n",
      "1224/1224 [==============================] - 7s 5ms/step - loss: 0.4242 - acc: 0.8873 - val_loss: 4.2128 - val_acc: 0.4412\n",
      "Epoch 67/100\n",
      "1224/1224 [==============================] - 7s 5ms/step - loss: 0.3155 - acc: 0.9069 - val_loss: 2.7954 - val_acc: 0.6029\n",
      "Epoch 68/100\n",
      "1224/1224 [==============================] - 7s 5ms/step - loss: 0.2123 - acc: 0.9387 - val_loss: 2.8214 - val_acc: 0.6176\n",
      "Epoch 69/100\n",
      "1224/1224 [==============================] - 7s 5ms/step - loss: 0.1823 - acc: 0.9412 - val_loss: 2.7090 - val_acc: 0.6103\n",
      "Epoch 70/100\n",
      "1224/1224 [==============================] - 7s 5ms/step - loss: 0.1289 - acc: 0.9575 - val_loss: 2.8013 - val_acc: 0.5956\n",
      "Epoch 71/100\n",
      "1224/1224 [==============================] - 7s 5ms/step - loss: 0.2951 - acc: 0.9248 - val_loss: 3.7294 - val_acc: 0.5074\n",
      "Epoch 72/100\n",
      "1224/1224 [==============================] - 7s 5ms/step - loss: 0.3411 - acc: 0.9289 - val_loss: 3.3259 - val_acc: 0.5735\n",
      "Epoch 73/100\n",
      "1224/1224 [==============================] - 7s 5ms/step - loss: 0.4141 - acc: 0.9044 - val_loss: 3.3987 - val_acc: 0.5515\n",
      "Epoch 74/100\n",
      "1224/1224 [==============================] - 7s 5ms/step - loss: 0.1532 - acc: 0.9534 - val_loss: 2.4640 - val_acc: 0.6765\n",
      "Epoch 75/100\n",
      "1224/1224 [==============================] - 7s 5ms/step - loss: 0.0783 - acc: 0.9722 - val_loss: 2.1836 - val_acc: 0.7059\n",
      "Epoch 76/100\n",
      "1224/1224 [==============================] - 7s 5ms/step - loss: 0.0429 - acc: 0.9853 - val_loss: 2.3604 - val_acc: 0.6765\n",
      "Epoch 77/100\n",
      "1224/1224 [==============================] - 7s 5ms/step - loss: 0.0452 - acc: 0.9828 - val_loss: 2.3719 - val_acc: 0.6838\n",
      "Epoch 78/100\n",
      "1224/1224 [==============================] - 7s 5ms/step - loss: 0.1216 - acc: 0.9632 - val_loss: 2.6048 - val_acc: 0.6618\n",
      "Epoch 79/100\n",
      "1224/1224 [==============================] - 7s 5ms/step - loss: 0.1968 - acc: 0.9469 - val_loss: 3.3111 - val_acc: 0.6103\n",
      "Epoch 80/100\n",
      "1224/1224 [==============================] - 7s 5ms/step - loss: 0.1784 - acc: 0.9502 - val_loss: 3.5142 - val_acc: 0.5882\n",
      "Epoch 81/100\n",
      "1224/1224 [==============================] - 7s 5ms/step - loss: 0.3858 - acc: 0.9257 - val_loss: 3.1007 - val_acc: 0.6250\n",
      "Epoch 82/100\n",
      "1224/1224 [==============================] - 7s 5ms/step - loss: 0.2607 - acc: 0.9297 - val_loss: 4.6537 - val_acc: 0.5221\n",
      "Epoch 83/100\n",
      "1224/1224 [==============================] - 7s 5ms/step - loss: 0.3102 - acc: 0.9257 - val_loss: 3.2349 - val_acc: 0.6029\n",
      "Epoch 84/100\n",
      "1224/1224 [==============================] - 7s 5ms/step - loss: 0.1289 - acc: 0.9657 - val_loss: 2.9470 - val_acc: 0.6765\n",
      "Epoch 85/100\n",
      "1224/1224 [==============================] - 7s 5ms/step - loss: 0.0846 - acc: 0.9714 - val_loss: 3.0682 - val_acc: 0.6029\n",
      "Epoch 86/100\n",
      "1224/1224 [==============================] - 7s 5ms/step - loss: 0.2625 - acc: 0.9420 - val_loss: 3.5706 - val_acc: 0.6176\n",
      "Epoch 87/100\n",
      "1224/1224 [==============================] - 7s 5ms/step - loss: 0.0993 - acc: 0.9730 - val_loss: 3.5160 - val_acc: 0.5956\n",
      "Epoch 88/100\n",
      "1224/1224 [==============================] - 7s 5ms/step - loss: 0.2053 - acc: 0.9461 - val_loss: 2.8291 - val_acc: 0.6029\n",
      "Epoch 89/100\n",
      "1224/1224 [==============================] - 7s 5ms/step - loss: 0.2732 - acc: 0.9379 - val_loss: 3.6461 - val_acc: 0.5882\n",
      "Epoch 90/100\n",
      "1224/1224 [==============================] - 7s 5ms/step - loss: 0.2671 - acc: 0.9363 - val_loss: 4.4421 - val_acc: 0.5074\n",
      "Epoch 91/100\n",
      "1224/1224 [==============================] - 7s 5ms/step - loss: 0.2390 - acc: 0.9469 - val_loss: 3.4782 - val_acc: 0.5809\n",
      "Epoch 92/100\n",
      "1224/1224 [==============================] - 7s 5ms/step - loss: 0.2093 - acc: 0.9436 - val_loss: 3.0245 - val_acc: 0.6397\n",
      "Epoch 93/100\n",
      "1224/1224 [==============================] - 7s 5ms/step - loss: 0.2767 - acc: 0.9428 - val_loss: 2.5420 - val_acc: 0.6618\n",
      "Epoch 94/100\n",
      "1224/1224 [==============================] - 7s 5ms/step - loss: 0.2670 - acc: 0.9314 - val_loss: 2.2422 - val_acc: 0.6838\n",
      "Epoch 95/100\n",
      "1224/1224 [==============================] - 7s 5ms/step - loss: 0.3361 - acc: 0.9281 - val_loss: 3.0082 - val_acc: 0.6029\n",
      "Epoch 96/100\n",
      "1224/1224 [==============================] - 7s 5ms/step - loss: 0.1545 - acc: 0.9567 - val_loss: 2.7039 - val_acc: 0.6912\n",
      "Epoch 97/100\n",
      "1224/1224 [==============================] - 7s 5ms/step - loss: 0.2957 - acc: 0.9428 - val_loss: 3.5542 - val_acc: 0.5662\n",
      "Epoch 98/100\n",
      "1224/1224 [==============================] - 7s 5ms/step - loss: 0.1925 - acc: 0.9469 - val_loss: 3.3734 - val_acc: 0.5809\n",
      "Epoch 99/100\n",
      "1224/1224 [==============================] - 7s 5ms/step - loss: 0.9351 - acc: 0.8203 - val_loss: 4.8059 - val_acc: 0.4926\n",
      "Epoch 100/100\n",
      "1224/1224 [==============================] - 7s 5ms/step - loss: 0.8585 - acc: 0.8284 - val_loss: 3.7232 - val_acc: 0.6103\n"
     ]
    },
    {
     "data": {
      "text/plain": [
       "<keras.callbacks.History at 0xfffefc5d9340>"
      ]
     },
     "execution_count": 9,
     "metadata": {},
     "output_type": "execute_result"
    }
   ],
   "source": [
    "model.fit(X, Y, batch_size=64, epochs=100, verbose=1, validation_split=0.1, shuffle=True)"
   ]
  },
  {
   "cell_type": "code",
   "execution_count": null,
   "metadata": {
    "vscode": {
     "languageId": "python"
    }
   },
   "outputs": [],
   "source": []
  }
 ],
 "metadata": {
  "kernelspec": {
   "display_name": "Python 3 (ipykernel)",
   "language": "python",
   "name": "python3"
  }
 },
 "nbformat": 4,
 "nbformat_minor": 2
}
