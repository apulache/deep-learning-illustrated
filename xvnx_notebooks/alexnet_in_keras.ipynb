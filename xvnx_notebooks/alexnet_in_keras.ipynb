{
 "cells": [
  {
   "cell_type": "markdown",
   "metadata": {},
   "source": [
    "# AlexNet in Keras"
   ]
  },
  {
   "cell_type": "markdown",
   "metadata": {},
   "source": [
    "In this notebook, we leverage an [AlexNet](https://papers.nips.cc/paper/4824-imagenet-classification-with-deep-convolutional-neural-networks)-like deep, convolutional neural network to classify flowers into the 17 categories of the [Oxford Flowers](http://www.robots.ox.ac.uk/~vgg/data/flowers/17/) data set. Derived from [this earlier notebook](https://github.com/the-deep-learners/TensorFlow-LiveLessons/blob/master/notebooks/old/L3-3b__TFLearn_AlexNet.ipynb)."
   ]
  },
  {
   "cell_type": "markdown",
   "metadata": {},
   "source": [
    "[![Open In Colab](https://colab.research.google.com/assets/colab-badge.svg)](https://colab.research.google.com/github/the-deep-learners/deep-learning-illustrated/blob/master/notebooks/alexnet_in_keras.ipynb)"
   ]
  },
  {
   "cell_type": "markdown",
   "metadata": {},
   "source": [
    "#### Load dependencies"
   ]
  },
  {
   "cell_type": "code",
   "execution_count": 1,
   "metadata": {},
   "outputs": [
    {
     "name": "stdout",
     "output_type": "stream",
     "text": [
      "Collecting tflearn\n",
      "  Downloading tflearn-0.5.0.tar.gz (107 kB)\n",
      "\u001b[2K     \u001b[90m━━━━━━━━━━━━━━━━━━━━━━━━━━━━━━━━━━━━━━━\u001b[0m \u001b[32m107.3/107.3 kB\u001b[0m \u001b[31m3.6 MB/s\u001b[0m eta \u001b[36m0:00:00\u001b[0m\n",
      "\u001b[?25h  Preparing metadata (setup.py) ... \u001b[?25ldone\n",
      "\u001b[?25hCollecting nltk\n",
      "  Downloading nltk-3.8.1-py3-none-any.whl (1.5 MB)\n",
      "\u001b[2K     \u001b[90m━━━━━━━━━━━━━━━━━━━━━━━━━━━━━━━━━━━━━━━━\u001b[0m \u001b[32m1.5/1.5 MB\u001b[0m \u001b[31m11.5 MB/s\u001b[0m eta \u001b[36m0:00:00\u001b[0m00:01\u001b[0m00:01\u001b[0m\n",
      "\u001b[?25hCollecting gensim\n",
      "  Downloading gensim-4.3.0-cp38-cp38-manylinux_2_17_aarch64.manylinux2014_aarch64.whl (24.0 MB)\n",
      "\u001b[2K     \u001b[90m━━━━━━━━━━━━━━━━━━━━━━━━━━━━━━━━━━━━━━━━\u001b[0m \u001b[32m24.0/24.0 MB\u001b[0m \u001b[31m8.4 MB/s\u001b[0m eta \u001b[36m0:00:00\u001b[0m:00:01\u001b[0m00:01\u001b[0m\n",
      "\u001b[?25hCollecting gym\n",
      "  Downloading gym-0.26.2.tar.gz (721 kB)\n",
      "\u001b[2K     \u001b[90m━━━━━━━━━━━━━━━━━━━━━━━━━━━━━━━━━━━━━━\u001b[0m \u001b[32m721.7/721.7 kB\u001b[0m \u001b[31m11.2 MB/s\u001b[0m eta \u001b[36m0:00:00\u001b[0m00:01\u001b[0m\n",
      "\u001b[?25h  Installing build dependencies ... \u001b[?25ldone\n",
      "\u001b[?25h  Getting requirements to build wheel ... \u001b[?25ldone\n",
      "\u001b[?25h  Preparing metadata (pyproject.toml) ... \u001b[?25ldone\n",
      "\u001b[?25hCollecting ipywidgets\n",
      "  Downloading ipywidgets-8.0.4-py3-none-any.whl (137 kB)\n",
      "\u001b[2K     \u001b[90m━━━━━━━━━━━━━━━━━━━━━━━━━━━━━━━━━━━━━━━\u001b[0m \u001b[32m137.8/137.8 kB\u001b[0m \u001b[31m5.8 MB/s\u001b[0m eta \u001b[36m0:00:00\u001b[0m\n",
      "\u001b[?25hRequirement already satisfied: pandas in /usr/local/lib/python3.8/dist-packages (from -r /workspace/requirements_xavier.txt (line 6)) (1.5.3)\n",
      "Requirement already satisfied: matplotlib in /usr/lib/python3/dist-packages (from -r /workspace/requirements_xavier.txt (line 7)) (3.1.2)\n",
      "Collecting Pillow\n",
      "  Downloading Pillow-9.4.0-cp38-cp38-manylinux_2_28_aarch64.whl (3.1 MB)\n",
      "\u001b[2K     \u001b[90m━━━━━━━━━━━━━━━━━━━━━━━━━━━━━━━━━━━━━━━━\u001b[0m \u001b[32m3.1/3.1 MB\u001b[0m \u001b[31m7.9 MB/s\u001b[0m eta \u001b[36m0:00:00\u001b[0m00:01\u001b[0m00:01\u001b[0m0m\n",
      "\u001b[?25hRequirement already satisfied: numpy in /usr/local/lib/python3.8/dist-packages (from tflearn->-r /workspace/requirements_xavier.txt (line 1)) (1.23.1)\n",
      "Requirement already satisfied: six in /usr/local/lib/python3.8/dist-packages (from tflearn->-r /workspace/requirements_xavier.txt (line 1)) (1.16.0)\n",
      "Collecting click\n",
      "  Downloading click-8.1.3-py3-none-any.whl (96 kB)\n",
      "\u001b[2K     \u001b[90m━━━━━━━━━━━━━━━━━━━━━━━━━━━━━━━━━━━━━━━━\u001b[0m \u001b[32m96.6/96.6 kB\u001b[0m \u001b[31m4.6 MB/s\u001b[0m eta \u001b[36m0:00:00\u001b[0m\n",
      "\u001b[?25hCollecting tqdm\n",
      "  Downloading tqdm-4.64.1-py2.py3-none-any.whl (78 kB)\n",
      "\u001b[2K     \u001b[90m━━━━━━━━━━━━━━━━━━━━━━━━━━━━━━━━━━━━━━━━\u001b[0m \u001b[32m78.5/78.5 kB\u001b[0m \u001b[31m2.9 MB/s\u001b[0m eta \u001b[36m0:00:00\u001b[0m\n",
      "\u001b[?25hCollecting regex>=2021.8.3\n",
      "  Downloading regex-2022.10.31-cp38-cp38-manylinux_2_17_aarch64.manylinux2014_aarch64.whl (771 kB)\n",
      "\u001b[2K     \u001b[90m━━━━━━━━━━━━━━━━━━━━━━━━━━━━━━━━━━━━━━\u001b[0m \u001b[32m771.1/771.1 kB\u001b[0m \u001b[31m14.0 MB/s\u001b[0m eta \u001b[36m0:00:00\u001b[0m00:01\u001b[0m\n",
      "\u001b[?25hRequirement already satisfied: joblib in /usr/lib/python3/dist-packages (from nltk->-r /workspace/requirements_xavier.txt (line 2)) (0.14.0)\n",
      "Collecting scipy>=1.7.0\n",
      "  Downloading scipy-1.10.0-cp38-cp38-manylinux_2_17_aarch64.manylinux2014_aarch64.whl (31.0 MB)\n",
      "\u001b[2K     \u001b[90m━━━━━━━━━━━━━━━━━━━━━━━━━━━━━━━━━━━━━━━━\u001b[0m \u001b[32m31.0/31.0 MB\u001b[0m \u001b[31m7.9 MB/s\u001b[0m eta \u001b[36m0:00:00\u001b[0m:00:01\u001b[0m00:01\u001b[0m\n",
      "\u001b[?25hCollecting smart-open>=1.8.1\n",
      "  Downloading smart_open-6.3.0-py3-none-any.whl (56 kB)\n",
      "\u001b[2K     \u001b[90m━━━━━━━━━━━━━━━━━━━━━━━━━━━━━━━━━━━━━━━━\u001b[0m \u001b[32m56.8/56.8 kB\u001b[0m \u001b[31m2.1 MB/s\u001b[0m eta \u001b[36m0:00:00\u001b[0m\n",
      "\u001b[?25hCollecting FuzzyTM>=0.4.0\n",
      "  Downloading FuzzyTM-2.0.5-py3-none-any.whl (29 kB)\n",
      "Collecting cloudpickle>=1.2.0\n",
      "  Downloading cloudpickle-2.2.1-py3-none-any.whl (25 kB)\n",
      "Requirement already satisfied: importlib-metadata>=4.8.0 in /usr/local/lib/python3.8/dist-packages (from gym->-r /workspace/requirements_xavier.txt (line 4)) (4.12.0)\n",
      "Collecting gym-notices>=0.0.4\n",
      "  Downloading gym_notices-0.0.8-py3-none-any.whl (3.0 kB)\n",
      "Requirement already satisfied: traitlets>=4.3.1 in /usr/local/lib/python3.8/dist-packages (from ipywidgets->-r /workspace/requirements_xavier.txt (line 5)) (5.9.0)\n",
      "Collecting widgetsnbextension~=4.0\n",
      "  Downloading widgetsnbextension-4.0.5-py3-none-any.whl (2.0 MB)\n",
      "\u001b[2K     \u001b[90m━━━━━━━━━━━━━━━━━━━━━━━━━━━━━━━━━━━━━━━━\u001b[0m \u001b[32m2.0/2.0 MB\u001b[0m \u001b[31m15.2 MB/s\u001b[0m eta \u001b[36m0:00:00\u001b[0m00:01\u001b[0m00:01\u001b[0m\n",
      "\u001b[?25hRequirement already satisfied: ipython>=6.1.0 in /usr/local/lib/python3.8/dist-packages (from ipywidgets->-r /workspace/requirements_xavier.txt (line 5)) (8.9.0)\n",
      "Requirement already satisfied: ipykernel>=4.5.1 in /usr/local/lib/python3.8/dist-packages (from ipywidgets->-r /workspace/requirements_xavier.txt (line 5)) (6.21.1)\n",
      "Collecting jupyterlab-widgets~=3.0\n",
      "  Downloading jupyterlab_widgets-3.0.5-py3-none-any.whl (384 kB)\n",
      "\u001b[2K     \u001b[90m━━━━━━━━━━━━━━━━━━━━━━━━━━━━━━━━━━━━━━\u001b[0m \u001b[32m384.3/384.3 kB\u001b[0m \u001b[31m13.6 MB/s\u001b[0m eta \u001b[36m0:00:00\u001b[0m\n",
      "\u001b[?25hRequirement already satisfied: pytz>=2020.1 in /usr/local/lib/python3.8/dist-packages (from pandas->-r /workspace/requirements_xavier.txt (line 6)) (2022.7.1)\n",
      "Requirement already satisfied: python-dateutil>=2.8.1 in /usr/local/lib/python3.8/dist-packages (from pandas->-r /workspace/requirements_xavier.txt (line 6)) (2.8.2)\n",
      "Collecting pyfume\n",
      "  Downloading pyFUME-0.2.25-py3-none-any.whl (67 kB)\n",
      "\u001b[2K     \u001b[90m━━━━━━━━━━━━━━━━━━━━━━━━━━━━━━━━━━━━━━━━\u001b[0m \u001b[32m67.1/67.1 kB\u001b[0m \u001b[31m3.4 MB/s\u001b[0m eta \u001b[36m0:00:00\u001b[0m\n",
      "\u001b[?25hRequirement already satisfied: zipp>=0.5 in /usr/local/lib/python3.8/dist-packages (from importlib-metadata>=4.8.0->gym->-r /workspace/requirements_xavier.txt (line 4)) (3.8.1)\n",
      "Requirement already satisfied: packaging in /usr/local/lib/python3.8/dist-packages (from ipykernel>=4.5.1->ipywidgets->-r /workspace/requirements_xavier.txt (line 5)) (21.3)\n",
      "Requirement already satisfied: comm>=0.1.1 in /usr/local/lib/python3.8/dist-packages (from ipykernel>=4.5.1->ipywidgets->-r /workspace/requirements_xavier.txt (line 5)) (0.1.2)\n",
      "Requirement already satisfied: matplotlib-inline>=0.1 in /usr/local/lib/python3.8/dist-packages (from ipykernel>=4.5.1->ipywidgets->-r /workspace/requirements_xavier.txt (line 5)) (0.1.6)\n",
      "Requirement already satisfied: jupyter-client>=6.1.12 in /usr/local/lib/python3.8/dist-packages (from ipykernel>=4.5.1->ipywidgets->-r /workspace/requirements_xavier.txt (line 5)) (8.0.2)\n",
      "Requirement already satisfied: psutil in /usr/local/lib/python3.8/dist-packages (from ipykernel>=4.5.1->ipywidgets->-r /workspace/requirements_xavier.txt (line 5)) (5.9.4)\n",
      "Requirement already satisfied: nest-asyncio in /usr/local/lib/python3.8/dist-packages (from ipykernel>=4.5.1->ipywidgets->-r /workspace/requirements_xavier.txt (line 5)) (1.5.6)\n",
      "Requirement already satisfied: tornado>=6.1 in /usr/local/lib/python3.8/dist-packages (from ipykernel>=4.5.1->ipywidgets->-r /workspace/requirements_xavier.txt (line 5)) (6.2)\n",
      "Requirement already satisfied: pyzmq>=17 in /usr/local/lib/python3.8/dist-packages (from ipykernel>=4.5.1->ipywidgets->-r /workspace/requirements_xavier.txt (line 5)) (25.0.0)\n",
      "Requirement already satisfied: debugpy>=1.6.5 in /usr/local/lib/python3.8/dist-packages (from ipykernel>=4.5.1->ipywidgets->-r /workspace/requirements_xavier.txt (line 5)) (1.6.6)\n",
      "Requirement already satisfied: jupyter-core!=5.0.*,>=4.12 in /usr/local/lib/python3.8/dist-packages (from ipykernel>=4.5.1->ipywidgets->-r /workspace/requirements_xavier.txt (line 5)) (5.2.0)\n",
      "Requirement already satisfied: stack-data in /usr/local/lib/python3.8/dist-packages (from ipython>=6.1.0->ipywidgets->-r /workspace/requirements_xavier.txt (line 5)) (0.6.2)\n",
      "Requirement already satisfied: pickleshare in /usr/local/lib/python3.8/dist-packages (from ipython>=6.1.0->ipywidgets->-r /workspace/requirements_xavier.txt (line 5)) (0.7.5)\n",
      "Requirement already satisfied: pexpect>4.3 in /usr/local/lib/python3.8/dist-packages (from ipython>=6.1.0->ipywidgets->-r /workspace/requirements_xavier.txt (line 5)) (4.8.0)\n",
      "Requirement already satisfied: prompt-toolkit<3.1.0,>=3.0.30 in /usr/local/lib/python3.8/dist-packages (from ipython>=6.1.0->ipywidgets->-r /workspace/requirements_xavier.txt (line 5)) (3.0.36)\n",
      "Requirement already satisfied: decorator in /usr/lib/python3/dist-packages (from ipython>=6.1.0->ipywidgets->-r /workspace/requirements_xavier.txt (line 5)) (4.4.2)\n",
      "Requirement already satisfied: pygments>=2.4.0 in /usr/local/lib/python3.8/dist-packages (from ipython>=6.1.0->ipywidgets->-r /workspace/requirements_xavier.txt (line 5)) (2.14.0)\n",
      "Requirement already satisfied: jedi>=0.16 in /usr/local/lib/python3.8/dist-packages (from ipython>=6.1.0->ipywidgets->-r /workspace/requirements_xavier.txt (line 5)) (0.18.2)\n",
      "Requirement already satisfied: backcall in /usr/local/lib/python3.8/dist-packages (from ipython>=6.1.0->ipywidgets->-r /workspace/requirements_xavier.txt (line 5)) (0.2.0)\n",
      "Requirement already satisfied: parso<0.9.0,>=0.8.0 in /usr/local/lib/python3.8/dist-packages (from jedi>=0.16->ipython>=6.1.0->ipywidgets->-r /workspace/requirements_xavier.txt (line 5)) (0.8.3)\n",
      "Requirement already satisfied: platformdirs>=2.5 in /usr/local/lib/python3.8/dist-packages (from jupyter-core!=5.0.*,>=4.12->ipykernel>=4.5.1->ipywidgets->-r /workspace/requirements_xavier.txt (line 5)) (2.5.2)\n",
      "Requirement already satisfied: ptyprocess>=0.5 in /usr/local/lib/python3.8/dist-packages (from pexpect>4.3->ipython>=6.1.0->ipywidgets->-r /workspace/requirements_xavier.txt (line 5)) (0.7.0)\n",
      "Requirement already satisfied: wcwidth in /usr/local/lib/python3.8/dist-packages (from prompt-toolkit<3.1.0,>=3.0.30->ipython>=6.1.0->ipywidgets->-r /workspace/requirements_xavier.txt (line 5)) (0.2.6)\n",
      "Requirement already satisfied: pyparsing!=3.0.5,>=2.0.2 in /usr/local/lib/python3.8/dist-packages (from packaging->ipykernel>=4.5.1->ipywidgets->-r /workspace/requirements_xavier.txt (line 5)) (3.0.9)\n",
      "Collecting simpful\n",
      "  Downloading simpful-2.9.0-py3-none-any.whl (30 kB)\n",
      "Collecting fst-pso\n",
      "  Downloading fst-pso-1.8.1.tar.gz (18 kB)\n",
      "  Preparing metadata (setup.py) ... \u001b[?25ldone\n",
      "\u001b[?25hRequirement already satisfied: asttokens>=2.1.0 in /usr/local/lib/python3.8/dist-packages (from stack-data->ipython>=6.1.0->ipywidgets->-r /workspace/requirements_xavier.txt (line 5)) (2.2.1)\n",
      "Requirement already satisfied: pure-eval in /usr/local/lib/python3.8/dist-packages (from stack-data->ipython>=6.1.0->ipywidgets->-r /workspace/requirements_xavier.txt (line 5)) (0.2.2)\n",
      "Requirement already satisfied: executing>=1.2.0 in /usr/local/lib/python3.8/dist-packages (from stack-data->ipython>=6.1.0->ipywidgets->-r /workspace/requirements_xavier.txt (line 5)) (1.2.0)\n",
      "Collecting miniful\n",
      "  Downloading miniful-0.0.6.tar.gz (2.8 kB)\n",
      "  Preparing metadata (setup.py) ... \u001b[?25ldone\n",
      "\u001b[?25hRequirement already satisfied: requests in /usr/local/lib/python3.8/dist-packages (from simpful->pyfume->FuzzyTM>=0.4.0->gensim->-r /workspace/requirements_xavier.txt (line 3)) (2.28.1)\n",
      "Requirement already satisfied: charset-normalizer<3,>=2 in /usr/local/lib/python3.8/dist-packages (from requests->simpful->pyfume->FuzzyTM>=0.4.0->gensim->-r /workspace/requirements_xavier.txt (line 3)) (2.1.0)\n",
      "Requirement already satisfied: idna<4,>=2.5 in /usr/local/lib/python3.8/dist-packages (from requests->simpful->pyfume->FuzzyTM>=0.4.0->gensim->-r /workspace/requirements_xavier.txt (line 3)) (3.3)\n",
      "Requirement already satisfied: certifi>=2017.4.17 in /usr/local/lib/python3.8/dist-packages (from requests->simpful->pyfume->FuzzyTM>=0.4.0->gensim->-r /workspace/requirements_xavier.txt (line 3)) (2022.6.15)\n",
      "Requirement already satisfied: urllib3<1.27,>=1.21.1 in /usr/local/lib/python3.8/dist-packages (from requests->simpful->pyfume->FuzzyTM>=0.4.0->gensim->-r /workspace/requirements_xavier.txt (line 3)) (1.26.11)\n",
      "Building wheels for collected packages: tflearn, gym, fst-pso, miniful\n",
      "  Building wheel for tflearn (setup.py) ... \u001b[?25ldone\n",
      "\u001b[?25h  Created wheel for tflearn: filename=tflearn-0.5.0-py3-none-any.whl size=127299 sha256=09b733b5d26482e8215d75057a2e8f08b57bb05a70530a81f9be92d511429f37\n",
      "  Stored in directory: /root/.cache/pip/wheels/65/9b/15/cb1e6b279c14ed897530d15cfd7da8e3df8a947e593f5cfe59\n",
      "  Building wheel for gym (pyproject.toml) ... \u001b[?25ldone\n",
      "\u001b[?25h  Created wheel for gym: filename=gym-0.26.2-py3-none-any.whl size=827631 sha256=ad54d4753a696cbae8ccad9bbba1ca2cc496ee885e6f4cc73b8389f0c53c79e5\n",
      "  Stored in directory: /root/.cache/pip/wheels/17/79/65/7afedc162d858b02708a3b8f7a6dd5b1000dcd5b0f894f7cc1\n",
      "  Building wheel for fst-pso (setup.py) ... \u001b[?25ldone\n",
      "\u001b[?25h  Created wheel for fst-pso: filename=fst_pso-1.8.1-py3-none-any.whl size=20441 sha256=3ea7758c0fff0da129d08c2b490809af610f06098f3440aec302c547e230b975\n",
      "  Stored in directory: /root/.cache/pip/wheels/6a/65/c4/d27eeee9ba3fc150a0dae150519591103b9e0dbffde3ae77dc\n",
      "  Building wheel for miniful (setup.py) ... \u001b[?25ldone\n",
      "\u001b[?25h  Created wheel for miniful: filename=miniful-0.0.6-py3-none-any.whl size=3530 sha256=7da1664e2004730837208db65e4bffc2a1c6c85d876e2c957023d0ff735e4fb8\n",
      "  Stored in directory: /root/.cache/pip/wheels/ba/d9/a0/ddd93af16d5855dd9bad417623e70948fdac119d1d34fb17c8\n",
      "Successfully built tflearn gym fst-pso miniful\n",
      "Installing collected packages: gym-notices, widgetsnbextension, tqdm, smart-open, scipy, regex, Pillow, jupyterlab-widgets, cloudpickle, click, tflearn, simpful, nltk, miniful, gym, fst-pso, pyfume, ipywidgets, FuzzyTM, gensim\n",
      "  Attempting uninstall: scipy\n",
      "    Found existing installation: scipy 1.3.3\n",
      "    Uninstalling scipy-1.3.3:\n",
      "      Successfully uninstalled scipy-1.3.3\n",
      "Successfully installed FuzzyTM-2.0.5 Pillow-9.4.0 click-8.1.3 cloudpickle-2.2.1 fst-pso-1.8.1 gensim-4.3.0 gym-0.26.2 gym-notices-0.0.8 ipywidgets-8.0.4 jupyterlab-widgets-3.0.5 miniful-0.0.6 nltk-3.8.1 pyfume-0.2.25 regex-2022.10.31 scipy-1.10.0 simpful-2.9.0 smart-open-6.3.0 tflearn-0.5.0 tqdm-4.64.1 widgetsnbextension-4.0.5\n",
      "\u001b[33mWARNING: Running pip as the 'root' user can result in broken permissions and conflicting behaviour with the system package manager. It is recommended to use a virtual environment instead: https://pip.pypa.io/warnings/venv\u001b[0m\u001b[33m\n",
      "\u001b[0mNote: you may need to restart the kernel to use updated packages.\n"
     ]
    }
   ],
   "source": [
    "%pip install -r /workspace/requirements_xavier.txt"
   ]
  },
  {
   "cell_type": "code",
   "execution_count": 2,
   "metadata": {
    "tags": []
   },
   "outputs": [
    {
     "data": {
      "text/plain": [
       "'2.9.1'"
      ]
     },
     "execution_count": 2,
     "metadata": {},
     "output_type": "execute_result"
    }
   ],
   "source": [
    "import tensorflow as tf\n",
    "tf.__version__"
   ]
  },
  {
   "cell_type": "code",
   "execution_count": 3,
   "metadata": {
    "tags": []
   },
   "outputs": [],
   "source": [
    "#import keras\n",
    "from tensorflow.keras.models import Sequential\n",
    "from tensorflow.keras.layers import Dense, Dropout, Flatten, Conv2D, MaxPooling2D\n",
    "from tensorflow.keras.layers import BatchNormalization"
   ]
  },
  {
   "cell_type": "markdown",
   "metadata": {},
   "source": [
    "#### Load *and preprocess* data"
   ]
  },
  {
   "cell_type": "code",
   "execution_count": 4,
   "metadata": {
    "tags": []
   },
   "outputs": [
    {
     "name": "stdout",
     "output_type": "stream",
     "text": [
      "WARNING:tensorflow:From /usr/local/lib/python3.8/dist-packages/tensorflow/python/compat/v2_compat.py:107: disable_resource_variables (from tensorflow.python.ops.variable_scope) is deprecated and will be removed in a future version.\n",
      "Instructions for updating:\n",
      "non-resource variables are not supported in the long term\n",
      "Downloading Oxford 17 category Flower Dataset, Please wait...\n"
     ]
    },
    {
     "name": "stderr",
     "output_type": "stream",
     "text": [
      "100.0% 60276736 / 60270631\n"
     ]
    },
    {
     "name": "stdout",
     "output_type": "stream",
     "text": [
      "Succesfully downloaded 17flowers.tgz 60270631 bytes.\n",
      "File Extracted\n",
      "Starting to parse images...\n",
      "Parsing Done!\n"
     ]
    }
   ],
   "source": [
    "import tflearn.datasets.oxflower17 as oxflower17\n",
    "X, Y = oxflower17.load_data(one_hot=True)"
   ]
  },
  {
   "cell_type": "markdown",
   "metadata": {},
   "source": [
    "#### Design neural network architecture"
   ]
  },
  {
   "cell_type": "code",
   "execution_count": 5,
   "metadata": {
    "tags": []
   },
   "outputs": [
    {
     "name": "stdout",
     "output_type": "stream",
     "text": [
      "WARNING:tensorflow:From /usr/local/lib/python3.8/dist-packages/keras/layers/normalization/batch_normalization.py:514: _colocate_with (from tensorflow.python.framework.ops) is deprecated and will be removed in a future version.\n",
      "Instructions for updating:\n",
      "Colocations handled automatically by placer.\n"
     ]
    }
   ],
   "source": [
    "model = Sequential()\n",
    "\n",
    "model.add(Conv2D(96, kernel_size=(11, 11), strides=(4, 4), activation='relu', input_shape=(224, 224, 3)))\n",
    "model.add(MaxPooling2D(pool_size=(3, 3), strides=(2, 2)))\n",
    "model.add(BatchNormalization())\n",
    "\n",
    "model.add(Conv2D(256, kernel_size=(5, 5), activation='relu'))\n",
    "model.add(MaxPooling2D(pool_size=(3, 3), strides=(2, 2)))\n",
    "model.add(BatchNormalization())\n",
    "\n",
    "model.add(Conv2D(256, kernel_size=(3, 3), activation='relu'))\n",
    "model.add(Conv2D(384, kernel_size=(3, 3), activation='relu'))\n",
    "model.add(Conv2D(384, kernel_size=(3, 3), activation='relu'))\n",
    "model.add(MaxPooling2D(pool_size=(3, 3), strides=(2, 2)))\n",
    "model.add(BatchNormalization())\n",
    "\n",
    "model.add(Flatten())\n",
    "model.add(Dense(4096, activation='tanh'))\n",
    "model.add(Dropout(0.5))\n",
    "model.add(Dense(4096, activation='tanh'))\n",
    "model.add(Dropout(0.5))\n",
    "\n",
    "model.add(Dense(17, activation='softmax'))"
   ]
  },
  {
   "cell_type": "code",
   "execution_count": 6,
   "metadata": {
    "tags": []
   },
   "outputs": [
    {
     "name": "stdout",
     "output_type": "stream",
     "text": [
      "Model: \"sequential\"\n",
      "_________________________________________________________________\n",
      " Layer (type)                Output Shape              Param #   \n",
      "=================================================================\n",
      " conv2d (Conv2D)             (None, 54, 54, 96)        34944     \n",
      "                                                                 \n",
      " max_pooling2d (MaxPooling2D  (None, 26, 26, 96)       0         \n",
      " )                                                               \n",
      "                                                                 \n",
      " batch_normalization (BatchN  (None, 26, 26, 96)       384       \n",
      " ormalization)                                                   \n",
      "                                                                 \n",
      " conv2d_1 (Conv2D)           (None, 22, 22, 256)       614656    \n",
      "                                                                 \n",
      " max_pooling2d_1 (MaxPooling  (None, 10, 10, 256)      0         \n",
      " 2D)                                                             \n",
      "                                                                 \n",
      " batch_normalization_1 (Batc  (None, 10, 10, 256)      1024      \n",
      " hNormalization)                                                 \n",
      "                                                                 \n",
      " conv2d_2 (Conv2D)           (None, 8, 8, 256)         590080    \n",
      "                                                                 \n",
      " conv2d_3 (Conv2D)           (None, 6, 6, 384)         885120    \n",
      "                                                                 \n",
      " conv2d_4 (Conv2D)           (None, 4, 4, 384)         1327488   \n",
      "                                                                 \n",
      " max_pooling2d_2 (MaxPooling  (None, 1, 1, 384)        0         \n",
      " 2D)                                                             \n",
      "                                                                 \n",
      " batch_normalization_2 (Batc  (None, 1, 1, 384)        1536      \n",
      " hNormalization)                                                 \n",
      "                                                                 \n",
      " flatten (Flatten)           (None, 384)               0         \n",
      "                                                                 \n",
      " dense (Dense)               (None, 4096)              1576960   \n",
      "                                                                 \n",
      " dropout (Dropout)           (None, 4096)              0         \n",
      "                                                                 \n",
      " dense_1 (Dense)             (None, 4096)              16781312  \n",
      "                                                                 \n",
      " dropout_1 (Dropout)         (None, 4096)              0         \n",
      "                                                                 \n",
      " dense_2 (Dense)             (None, 17)                69649     \n",
      "                                                                 \n",
      "=================================================================\n",
      "Total params: 21,883,153\n",
      "Trainable params: 21,881,681\n",
      "Non-trainable params: 1,472\n",
      "_________________________________________________________________\n"
     ]
    }
   ],
   "source": [
    "model.summary()"
   ]
  },
  {
   "cell_type": "markdown",
   "metadata": {},
   "source": [
    "#### Configure model"
   ]
  },
  {
   "cell_type": "code",
   "execution_count": 7,
   "metadata": {
    "tags": []
   },
   "outputs": [],
   "source": [
    "model.compile(loss='categorical_crossentropy', optimizer='adam', metrics=['accuracy'])"
   ]
  },
  {
   "cell_type": "markdown",
   "metadata": {},
   "source": [
    "#### Train!"
   ]
  },
  {
   "cell_type": "code",
   "execution_count": 8,
   "metadata": {
    "tags": []
   },
   "outputs": [
    {
     "name": "stdout",
     "output_type": "stream",
     "text": [
      "Train on 1224 samples, validate on 136 samples\n"
     ]
    },
    {
     "name": "stderr",
     "output_type": "stream",
     "text": [
      "2023-02-05 07:51:14.939153: I tensorflow/stream_executor/cuda/cuda_gpu_executor.cc:977] could not open file to read NUMA node: /sys/bus/pci/devices/0000:00:00.0/numa_node\n",
      "Your kernel may have been built without NUMA support.\n",
      "2023-02-05 07:51:15.397965: I tensorflow/stream_executor/cuda/cuda_gpu_executor.cc:977] could not open file to read NUMA node: /sys/bus/pci/devices/0000:00:00.0/numa_node\n",
      "Your kernel may have been built without NUMA support.\n",
      "2023-02-05 07:51:15.399048: I tensorflow/stream_executor/cuda/cuda_gpu_executor.cc:977] could not open file to read NUMA node: /sys/bus/pci/devices/0000:00:00.0/numa_node\n",
      "Your kernel may have been built without NUMA support.\n",
      "2023-02-05 07:51:15.446947: I tensorflow/stream_executor/cuda/cuda_gpu_executor.cc:977] could not open file to read NUMA node: /sys/bus/pci/devices/0000:00:00.0/numa_node\n",
      "Your kernel may have been built without NUMA support.\n",
      "2023-02-05 07:51:15.447928: I tensorflow/stream_executor/cuda/cuda_gpu_executor.cc:977] could not open file to read NUMA node: /sys/bus/pci/devices/0000:00:00.0/numa_node\n",
      "Your kernel may have been built without NUMA support.\n",
      "2023-02-05 07:51:15.448589: I tensorflow/stream_executor/cuda/cuda_gpu_executor.cc:977] could not open file to read NUMA node: /sys/bus/pci/devices/0000:00:00.0/numa_node\n",
      "Your kernel may have been built without NUMA support.\n",
      "2023-02-05 07:51:18.320356: I tensorflow/stream_executor/cuda/cuda_gpu_executor.cc:977] could not open file to read NUMA node: /sys/bus/pci/devices/0000:00:00.0/numa_node\n",
      "Your kernel may have been built without NUMA support.\n",
      "2023-02-05 07:51:18.327272: I tensorflow/stream_executor/cuda/cuda_gpu_executor.cc:977] could not open file to read NUMA node: /sys/bus/pci/devices/0000:00:00.0/numa_node\n",
      "Your kernel may have been built without NUMA support.\n",
      "2023-02-05 07:51:18.328555: I tensorflow/core/common_runtime/gpu/gpu_device.cc:1616] Could not identify NUMA node of platform GPU id 0, defaulting to 0.  Your kernel may not have been built with NUMA support.\n",
      "2023-02-05 07:51:18.329709: I tensorflow/stream_executor/cuda/cuda_gpu_executor.cc:977] could not open file to read NUMA node: /sys/bus/pci/devices/0000:00:00.0/numa_node\n",
      "Your kernel may have been built without NUMA support.\n",
      "2023-02-05 07:51:18.331809: I tensorflow/core/common_runtime/gpu/gpu_device.cc:1532] Created device /job:localhost/replica:0/task:0/device:GPU:0 with 2062 MB memory:  -> device: 0, name: Xavier, pci bus id: 0000:00:00.0, compute capability: 7.2\n",
      "2023-02-05 07:51:18.551576: I tensorflow/compiler/mlir/mlir_graph_optimization_pass.cc:354] MLIR V1 optimization pass is not enabled\n"
     ]
    },
    {
     "name": "stdout",
     "output_type": "stream",
     "text": [
      "Epoch 1/100\n"
     ]
    },
    {
     "name": "stderr",
     "output_type": "stream",
     "text": [
      "2023-02-05 07:51:32.523457: I tensorflow/stream_executor/cuda/cuda_dnn.cc:384] Loaded cuDNN version 8401\n"
     ]
    },
    {
     "name": "stdout",
     "output_type": "stream",
     "text": [
      "1224/1224 [==============================] - ETA: 0s - loss: 4.4080 - acc: 0.1855"
     ]
    },
    {
     "name": "stderr",
     "output_type": "stream",
     "text": [
      "/usr/local/lib/python3.8/dist-packages/keras/engine/training_v1.py:2045: UserWarning: `Model.state_updates` will be removed in a future version. This property should not be used in TensorFlow 2.0, as `updates` are applied automatically.\n",
      "  updates = self.state_updates\n"
     ]
    },
    {
     "name": "stdout",
     "output_type": "stream",
     "text": [
      "1224/1224 [==============================] - 34s 28ms/sample - loss: 4.4080 - acc: 0.1855 - val_loss: 8.5574 - val_acc: 0.0735\n",
      "Epoch 2/100\n",
      "1224/1224 [==============================] - 5s 4ms/sample - loss: 3.0392 - acc: 0.2843 - val_loss: 6.8069 - val_acc: 0.0368\n",
      "Epoch 3/100\n",
      "1224/1224 [==============================] - 5s 4ms/sample - loss: 2.7413 - acc: 0.2851 - val_loss: 4.2948 - val_acc: 0.1250\n",
      "Epoch 4/100\n",
      "1224/1224 [==============================] - 5s 4ms/sample - loss: 2.5484 - acc: 0.3284 - val_loss: 4.5597 - val_acc: 0.1103\n",
      "Epoch 5/100\n",
      "1224/1224 [==============================] - 5s 4ms/sample - loss: 2.4919 - acc: 0.3399 - val_loss: 4.2903 - val_acc: 0.1471\n",
      "Epoch 6/100\n",
      "1224/1224 [==============================] - 5s 4ms/sample - loss: 2.5060 - acc: 0.3513 - val_loss: 2.9025 - val_acc: 0.2574\n",
      "Epoch 7/100\n",
      "1224/1224 [==============================] - 5s 4ms/sample - loss: 2.4730 - acc: 0.3676 - val_loss: 3.8711 - val_acc: 0.1912\n",
      "Epoch 8/100\n",
      "1224/1224 [==============================] - 5s 4ms/sample - loss: 2.3524 - acc: 0.3930 - val_loss: 3.5081 - val_acc: 0.2647\n",
      "Epoch 9/100\n",
      "1224/1224 [==============================] - 5s 4ms/sample - loss: 2.3477 - acc: 0.4036 - val_loss: 4.3468 - val_acc: 0.2206\n",
      "Epoch 10/100\n",
      "1224/1224 [==============================] - 5s 4ms/sample - loss: 2.3055 - acc: 0.4224 - val_loss: 3.3760 - val_acc: 0.2500\n",
      "Epoch 11/100\n",
      "1224/1224 [==============================] - 5s 4ms/sample - loss: 2.1467 - acc: 0.4273 - val_loss: 4.5696 - val_acc: 0.1544\n",
      "Epoch 12/100\n",
      "1224/1224 [==============================] - 5s 4ms/sample - loss: 2.4435 - acc: 0.4167 - val_loss: 3.3264 - val_acc: 0.2500\n",
      "Epoch 13/100\n",
      "1224/1224 [==============================] - 5s 4ms/sample - loss: 2.0852 - acc: 0.4322 - val_loss: 3.1895 - val_acc: 0.2721\n",
      "Epoch 14/100\n",
      "1224/1224 [==============================] - 5s 4ms/sample - loss: 1.9793 - acc: 0.4845 - val_loss: 3.5780 - val_acc: 0.2868\n",
      "Epoch 15/100\n",
      "1224/1224 [==============================] - 5s 4ms/sample - loss: 1.7417 - acc: 0.5114 - val_loss: 3.5312 - val_acc: 0.3456\n",
      "Epoch 16/100\n",
      "1224/1224 [==============================] - 5s 4ms/sample - loss: 2.2920 - acc: 0.4199 - val_loss: 4.3785 - val_acc: 0.2721\n",
      "Epoch 17/100\n",
      "1224/1224 [==============================] - 5s 4ms/sample - loss: 1.8970 - acc: 0.4796 - val_loss: 2.8449 - val_acc: 0.3897\n",
      "Epoch 18/100\n",
      "1224/1224 [==============================] - 5s 4ms/sample - loss: 1.8647 - acc: 0.4975 - val_loss: 2.4076 - val_acc: 0.4118\n",
      "Epoch 19/100\n",
      "1224/1224 [==============================] - 5s 4ms/sample - loss: 1.6614 - acc: 0.5114 - val_loss: 4.0921 - val_acc: 0.3015\n",
      "Epoch 20/100\n",
      "1224/1224 [==============================] - 5s 4ms/sample - loss: 1.5404 - acc: 0.5817 - val_loss: 3.7543 - val_acc: 0.3309\n",
      "Epoch 21/100\n",
      "1224/1224 [==============================] - 5s 4ms/sample - loss: 1.6161 - acc: 0.5515 - val_loss: 3.2762 - val_acc: 0.3897\n",
      "Epoch 22/100\n",
      "1224/1224 [==============================] - 5s 4ms/sample - loss: 1.8021 - acc: 0.5172 - val_loss: 3.7812 - val_acc: 0.3309\n",
      "Epoch 23/100\n",
      "1224/1224 [==============================] - 5s 4ms/sample - loss: 1.6307 - acc: 0.5572 - val_loss: 4.4326 - val_acc: 0.3456\n",
      "Epoch 24/100\n",
      "1224/1224 [==============================] - 5s 4ms/sample - loss: 1.5408 - acc: 0.5760 - val_loss: 4.5399 - val_acc: 0.3456\n",
      "Epoch 25/100\n",
      "1224/1224 [==============================] - 5s 4ms/sample - loss: 1.4195 - acc: 0.6119 - val_loss: 3.4181 - val_acc: 0.4044\n",
      "Epoch 26/100\n",
      "1224/1224 [==============================] - 5s 4ms/sample - loss: 1.1428 - acc: 0.6413 - val_loss: 2.3312 - val_acc: 0.4779\n",
      "Epoch 27/100\n",
      "1224/1224 [==============================] - 5s 4ms/sample - loss: 1.1141 - acc: 0.6757 - val_loss: 2.5888 - val_acc: 0.4044\n",
      "Epoch 28/100\n",
      "1224/1224 [==============================] - 5s 4ms/sample - loss: 1.0959 - acc: 0.6789 - val_loss: 2.6466 - val_acc: 0.4706\n",
      "Epoch 29/100\n",
      "1224/1224 [==============================] - 5s 4ms/sample - loss: 1.2672 - acc: 0.6708 - val_loss: 3.9708 - val_acc: 0.3824\n",
      "Epoch 30/100\n",
      "1224/1224 [==============================] - 5s 4ms/sample - loss: 1.1397 - acc: 0.6740 - val_loss: 2.3202 - val_acc: 0.5074\n",
      "Epoch 31/100\n",
      "1224/1224 [==============================] - 5s 4ms/sample - loss: 1.0730 - acc: 0.6895 - val_loss: 2.5963 - val_acc: 0.4779\n",
      "Epoch 32/100\n",
      "1224/1224 [==============================] - 5s 4ms/sample - loss: 1.1457 - acc: 0.6863 - val_loss: 3.2564 - val_acc: 0.4265\n",
      "Epoch 33/100\n",
      "1224/1224 [==============================] - 5s 4ms/sample - loss: 1.0476 - acc: 0.7230 - val_loss: 3.7844 - val_acc: 0.4632\n",
      "Epoch 34/100\n",
      "1224/1224 [==============================] - 5s 4ms/sample - loss: 0.8425 - acc: 0.7377 - val_loss: 2.2296 - val_acc: 0.5882\n",
      "Epoch 35/100\n",
      "1224/1224 [==============================] - 5s 4ms/sample - loss: 0.7801 - acc: 0.7557 - val_loss: 2.0128 - val_acc: 0.5882\n",
      "Epoch 36/100\n",
      "1224/1224 [==============================] - 5s 4ms/sample - loss: 0.6901 - acc: 0.7966 - val_loss: 2.0856 - val_acc: 0.5735\n",
      "Epoch 37/100\n",
      "1224/1224 [==============================] - 5s 4ms/sample - loss: 0.6691 - acc: 0.8023 - val_loss: 3.3248 - val_acc: 0.4265\n",
      "Epoch 38/100\n",
      "1224/1224 [==============================] - 5s 4ms/sample - loss: 0.8485 - acc: 0.7663 - val_loss: 2.1816 - val_acc: 0.5956\n",
      "Epoch 39/100\n",
      "1224/1224 [==============================] - 5s 4ms/sample - loss: 0.5748 - acc: 0.8121 - val_loss: 2.1564 - val_acc: 0.6324\n",
      "Epoch 40/100\n",
      "1224/1224 [==============================] - 5s 4ms/sample - loss: 0.4408 - acc: 0.8570 - val_loss: 2.4946 - val_acc: 0.5588\n",
      "Epoch 41/100\n",
      "1224/1224 [==============================] - 5s 4ms/sample - loss: 0.6029 - acc: 0.8325 - val_loss: 3.0150 - val_acc: 0.5074\n",
      "Epoch 42/100\n",
      "1224/1224 [==============================] - 5s 4ms/sample - loss: 0.5094 - acc: 0.8415 - val_loss: 2.1786 - val_acc: 0.5735\n",
      "Epoch 43/100\n",
      "1224/1224 [==============================] - 5s 4ms/sample - loss: 0.8352 - acc: 0.7680 - val_loss: 3.1761 - val_acc: 0.5515\n",
      "Epoch 44/100\n",
      "1224/1224 [==============================] - 5s 4ms/sample - loss: 0.6547 - acc: 0.8064 - val_loss: 2.5420 - val_acc: 0.6324\n",
      "Epoch 45/100\n",
      "1224/1224 [==============================] - 5s 4ms/sample - loss: 0.5002 - acc: 0.8333 - val_loss: 2.7808 - val_acc: 0.5588\n",
      "Epoch 46/100\n",
      "1224/1224 [==============================] - 5s 4ms/sample - loss: 0.5154 - acc: 0.8472 - val_loss: 2.9670 - val_acc: 0.5588\n",
      "Epoch 47/100\n",
      "1224/1224 [==============================] - 5s 4ms/sample - loss: 0.4682 - acc: 0.8619 - val_loss: 1.6460 - val_acc: 0.6838\n",
      "Epoch 48/100\n",
      "1224/1224 [==============================] - 5s 4ms/sample - loss: 0.4118 - acc: 0.8815 - val_loss: 2.6588 - val_acc: 0.5735\n",
      "Epoch 49/100\n",
      "1224/1224 [==============================] - 5s 4ms/sample - loss: 0.4440 - acc: 0.8758 - val_loss: 2.3681 - val_acc: 0.6397\n",
      "Epoch 50/100\n",
      "1224/1224 [==============================] - 5s 4ms/sample - loss: 0.3390 - acc: 0.9020 - val_loss: 2.2385 - val_acc: 0.6544\n",
      "Epoch 51/100\n",
      "1224/1224 [==============================] - 5s 4ms/sample - loss: 0.4262 - acc: 0.8848 - val_loss: 4.0634 - val_acc: 0.4485\n",
      "Epoch 52/100\n",
      "1224/1224 [==============================] - 5s 4ms/sample - loss: 0.5581 - acc: 0.8440 - val_loss: 3.1873 - val_acc: 0.5294\n",
      "Epoch 53/100\n",
      "1224/1224 [==============================] - 5s 4ms/sample - loss: 0.4662 - acc: 0.8644 - val_loss: 2.5525 - val_acc: 0.6176\n",
      "Epoch 54/100\n",
      "1224/1224 [==============================] - 5s 4ms/sample - loss: 1.4943 - acc: 0.6961 - val_loss: 3.9888 - val_acc: 0.2353\n",
      "Epoch 55/100\n",
      "1224/1224 [==============================] - 5s 4ms/sample - loss: 1.7414 - acc: 0.6013 - val_loss: 5.2642 - val_acc: 0.2059\n",
      "Epoch 56/100\n",
      "1224/1224 [==============================] - 5s 4ms/sample - loss: 1.7541 - acc: 0.5931 - val_loss: 6.8696 - val_acc: 0.1250\n",
      "Epoch 57/100\n",
      "1224/1224 [==============================] - 5s 4ms/sample - loss: 1.2983 - acc: 0.6405 - val_loss: 6.3981 - val_acc: 0.1912\n",
      "Epoch 58/100\n",
      "1224/1224 [==============================] - 5s 4ms/sample - loss: 1.2357 - acc: 0.6650 - val_loss: 4.1873 - val_acc: 0.3162\n",
      "Epoch 59/100\n",
      "1224/1224 [==============================] - 5s 4ms/sample - loss: 0.9679 - acc: 0.7410 - val_loss: 3.0632 - val_acc: 0.4265\n",
      "Epoch 60/100\n",
      "1224/1224 [==============================] - 5s 4ms/sample - loss: 0.8152 - acc: 0.7786 - val_loss: 2.6495 - val_acc: 0.5662\n",
      "Epoch 61/100\n",
      "1224/1224 [==============================] - 5s 4ms/sample - loss: 0.6091 - acc: 0.8121 - val_loss: 3.2143 - val_acc: 0.5147\n",
      "Epoch 62/100\n",
      "1224/1224 [==============================] - 5s 4ms/sample - loss: 0.7658 - acc: 0.8015 - val_loss: 3.2012 - val_acc: 0.5588\n",
      "Epoch 63/100\n",
      "1224/1224 [==============================] - 5s 4ms/sample - loss: 0.6862 - acc: 0.8211 - val_loss: 3.0181 - val_acc: 0.5588\n",
      "Epoch 64/100\n",
      "1224/1224 [==============================] - 5s 4ms/sample - loss: 0.5191 - acc: 0.8505 - val_loss: 2.3422 - val_acc: 0.6176\n",
      "Epoch 65/100\n",
      "1224/1224 [==============================] - 5s 4ms/sample - loss: 0.4914 - acc: 0.8603 - val_loss: 2.3277 - val_acc: 0.6029\n",
      "Epoch 66/100\n",
      "1224/1224 [==============================] - 5s 4ms/sample - loss: 0.5003 - acc: 0.8448 - val_loss: 3.0361 - val_acc: 0.6176\n",
      "Epoch 67/100\n",
      "1224/1224 [==============================] - 5s 4ms/sample - loss: 0.3886 - acc: 0.8905 - val_loss: 3.0169 - val_acc: 0.6029\n",
      "Epoch 68/100\n",
      "1224/1224 [==============================] - 5s 4ms/sample - loss: 0.3032 - acc: 0.8979 - val_loss: 2.4312 - val_acc: 0.6912\n",
      "Epoch 69/100\n",
      "1224/1224 [==============================] - 5s 4ms/sample - loss: 0.2992 - acc: 0.9167 - val_loss: 2.2595 - val_acc: 0.6471\n",
      "Epoch 70/100\n",
      "1224/1224 [==============================] - 5s 4ms/sample - loss: 0.2682 - acc: 0.9158 - val_loss: 2.8937 - val_acc: 0.5735\n",
      "Epoch 71/100\n",
      "1224/1224 [==============================] - 5s 4ms/sample - loss: 0.3617 - acc: 0.8864 - val_loss: 2.2371 - val_acc: 0.6397\n",
      "Epoch 72/100\n",
      "1224/1224 [==============================] - 5s 4ms/sample - loss: 0.1805 - acc: 0.9346 - val_loss: 2.2509 - val_acc: 0.6618\n",
      "Epoch 73/100\n",
      "1224/1224 [==============================] - 5s 4ms/sample - loss: 0.1866 - acc: 0.9485 - val_loss: 2.4378 - val_acc: 0.6618\n",
      "Epoch 74/100\n",
      "1224/1224 [==============================] - 5s 4ms/sample - loss: 0.2992 - acc: 0.9158 - val_loss: 2.7895 - val_acc: 0.6176\n",
      "Epoch 75/100\n",
      "1224/1224 [==============================] - 5s 4ms/sample - loss: 0.4064 - acc: 0.8864 - val_loss: 3.9191 - val_acc: 0.5368\n",
      "Epoch 76/100\n",
      "1224/1224 [==============================] - 5s 4ms/sample - loss: 0.4102 - acc: 0.8881 - val_loss: 3.0145 - val_acc: 0.6176\n",
      "Epoch 77/100\n",
      "1224/1224 [==============================] - 5s 4ms/sample - loss: 0.2733 - acc: 0.9306 - val_loss: 2.8802 - val_acc: 0.7059\n",
      "Epoch 78/100\n",
      "1224/1224 [==============================] - 5s 4ms/sample - loss: 0.1548 - acc: 0.9542 - val_loss: 3.3133 - val_acc: 0.6176\n",
      "Epoch 79/100\n",
      "1224/1224 [==============================] - 5s 4ms/sample - loss: 0.4732 - acc: 0.8832 - val_loss: 3.9691 - val_acc: 0.5074\n",
      "Epoch 80/100\n",
      "1224/1224 [==============================] - 5s 4ms/sample - loss: 0.4552 - acc: 0.8750 - val_loss: 3.7386 - val_acc: 0.5662\n",
      "Epoch 81/100\n",
      "1224/1224 [==============================] - 5s 4ms/sample - loss: 0.3535 - acc: 0.9020 - val_loss: 3.7364 - val_acc: 0.5882\n",
      "Epoch 82/100\n",
      "1224/1224 [==============================] - 5s 4ms/sample - loss: 0.3963 - acc: 0.9020 - val_loss: 2.6579 - val_acc: 0.6324\n",
      "Epoch 83/100\n",
      "1224/1224 [==============================] - 5s 4ms/sample - loss: 0.3598 - acc: 0.8995 - val_loss: 3.7091 - val_acc: 0.5147\n",
      "Epoch 84/100\n",
      "1224/1224 [==============================] - 5s 4ms/sample - loss: 0.3563 - acc: 0.9093 - val_loss: 3.7102 - val_acc: 0.5294\n",
      "Epoch 85/100\n",
      "1224/1224 [==============================] - 5s 4ms/sample - loss: 0.3795 - acc: 0.9020 - val_loss: 4.7945 - val_acc: 0.4926\n",
      "Epoch 86/100\n",
      "1224/1224 [==============================] - 5s 4ms/sample - loss: 0.3101 - acc: 0.9183 - val_loss: 3.0157 - val_acc: 0.6471\n",
      "Epoch 87/100\n",
      "1224/1224 [==============================] - 5s 4ms/sample - loss: 0.5421 - acc: 0.8807 - val_loss: 3.1752 - val_acc: 0.5735\n",
      "Epoch 88/100\n",
      "1224/1224 [==============================] - 5s 4ms/sample - loss: 0.2568 - acc: 0.9248 - val_loss: 2.7475 - val_acc: 0.6985\n",
      "Epoch 89/100\n",
      "1224/1224 [==============================] - 5s 4ms/sample - loss: 0.3278 - acc: 0.9142 - val_loss: 3.2236 - val_acc: 0.6103\n",
      "Epoch 90/100\n",
      "1224/1224 [==============================] - 5s 4ms/sample - loss: 0.1340 - acc: 0.9632 - val_loss: 3.1716 - val_acc: 0.6838\n",
      "Epoch 91/100\n",
      "1224/1224 [==============================] - 5s 4ms/sample - loss: 0.2127 - acc: 0.9461 - val_loss: 3.4355 - val_acc: 0.6324\n",
      "Epoch 92/100\n",
      "1224/1224 [==============================] - 5s 4ms/sample - loss: 0.3784 - acc: 0.9085 - val_loss: 3.3761 - val_acc: 0.6397\n",
      "Epoch 93/100\n",
      "1224/1224 [==============================] - 5s 4ms/sample - loss: 0.5796 - acc: 0.8644 - val_loss: 4.6024 - val_acc: 0.5294\n",
      "Epoch 94/100\n",
      "1224/1224 [==============================] - 5s 4ms/sample - loss: 0.3731 - acc: 0.9011 - val_loss: 3.1116 - val_acc: 0.6471\n",
      "Epoch 95/100\n",
      "1224/1224 [==============================] - 5s 4ms/sample - loss: 0.3266 - acc: 0.9257 - val_loss: 3.7523 - val_acc: 0.5735\n",
      "Epoch 96/100\n",
      "1224/1224 [==============================] - 5s 4ms/sample - loss: 0.2022 - acc: 0.9420 - val_loss: 3.1450 - val_acc: 0.6912\n",
      "Epoch 97/100\n",
      "1224/1224 [==============================] - 5s 4ms/sample - loss: 0.2101 - acc: 0.9559 - val_loss: 2.8534 - val_acc: 0.6985\n",
      "Epoch 98/100\n",
      "1224/1224 [==============================] - 5s 4ms/sample - loss: 0.1678 - acc: 0.9493 - val_loss: 3.1777 - val_acc: 0.6471\n",
      "Epoch 99/100\n",
      "1224/1224 [==============================] - 5s 4ms/sample - loss: 0.2302 - acc: 0.9412 - val_loss: 3.4116 - val_acc: 0.6471\n",
      "Epoch 100/100\n",
      "1224/1224 [==============================] - 5s 4ms/sample - loss: 0.1611 - acc: 0.9559 - val_loss: 3.3302 - val_acc: 0.6838\n"
     ]
    },
    {
     "data": {
      "text/plain": [
       "<keras.callbacks.History at 0xffff2b2af220>"
      ]
     },
     "execution_count": 8,
     "metadata": {},
     "output_type": "execute_result"
    }
   ],
   "source": [
    "model.fit(X, Y, batch_size=64, epochs=100, verbose=1, validation_split=0.1, shuffle=True)"
   ]
  },
  {
   "cell_type": "code",
   "execution_count": null,
   "metadata": {},
   "outputs": [],
   "source": []
  }
 ],
 "metadata": {
  "kernelspec": {
   "display_name": "Python 3 (ipykernel)",
   "language": "python",
   "name": "python3"
  },
  "language_info": {
   "codemirror_mode": {
    "name": "ipython",
    "version": 3
   },
   "file_extension": ".py",
   "mimetype": "text/x-python",
   "name": "python",
   "nbconvert_exporter": "python",
   "pygments_lexer": "ipython3",
   "version": "3.8.10"
  },
  "vscode": {
   "interpreter": {
    "hash": "916dbcbb3f70747c44a77c7bcd40155683ae19c65e1c03b4aa3499c5328201f1"
   }
  }
 },
 "nbformat": 4,
 "nbformat_minor": 4
}
